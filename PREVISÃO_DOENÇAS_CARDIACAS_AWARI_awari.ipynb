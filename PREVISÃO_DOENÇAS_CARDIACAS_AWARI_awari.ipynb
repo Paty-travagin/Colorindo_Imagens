{
 "cells": [
  {
   "cell_type": "markdown",
   "id": "817e298d",
   "metadata": {},
   "source": [
    "# PROJETO FINAL DATA SCIENCE\n",
    "#### Aluno(a)\n",
    "- Patrícia Ferreira da Silva\n"
   ]
  },
  {
   "cell_type": "markdown",
   "id": "0a1b4a0a",
   "metadata": {},
   "source": [
    "## Previsão de Doenças Cardíacas"
   ]
  },
  {
   "cell_type": "markdown",
   "id": "fd833d21",
   "metadata": {},
   "source": [
    "## I - Esposição do problema"
   ]
  },
  {
   "cell_type": "markdown",
   "id": "5b7abb3b",
   "metadata": {},
   "source": [
    "Vários fatores influência em doeças cardíacas, são os níveis de colesterol, histórico familiar, obesidade entre outros, prever \n",
    "e diagnosticar doenças cardíacas é um desafio que depende de fatores como exames, sitomas e sinais do paciente.Os problemas\n",
    "cardíacos é visto como a doença mais mortal, pois o coração não é capaz de empurrar a quantidade necessária de sangue para os\n",
    "orgãos restante do corpo humano. Neste projeto vamos realizar uma tarefa de previsão de doenças cardíacas utilizando EDA, algoritimo de LogisticRegression e Randon Forest.\n",
    "\n"
   ]
  },
  {
   "cell_type": "markdown",
   "id": "b5eca62a",
   "metadata": {},
   "source": [
    "##  importação das bibliotecas"
   ]
  },
  {
   "cell_type": "code",
   "execution_count": 39,
   "id": "9d2f5aab",
   "metadata": {},
   "outputs": [],
   "source": [
    "import pandas as pd\n",
    "import matplotlib.pyplot as plt\n",
    "import seaborn as sns\n",
    "import numpy as np\n",
    "import matplotlib.pyplot as plt\n",
    "from sklearn.linear_model import LinearRegression\n",
    "from sklearn.ensemble import RandomForestRegressor\n",
    "from sklearn import metrics \n",
    "from keras.layers import Dense\n",
    "import keras\n",
    "import tensorflow as tf\n",
    "%matplotlib inline\n",
    "sns.set_style(\"whitegrid\")\n",
    "plt.style.use(\"fivethirtyeight\")\n",
    "\n",
    "from keras.models import Sequential\n",
    "from keras.layers import Dense, Dropout, Flatten, Conv2D, MaxPooling2D\n",
    "from keras.optimizers import SGD\n",
    "from keras.models import load_model\n",
    "\n",
    "\n",
    "\n",
    "from sklearn.model_selection import train_test_split\n",
    "from sklearn.preprocessing import StandardScaler\n",
    "from sklearn.linear_model import LogisticRegression\n",
    "from sklearn.ensemble import RandomForestClassifier\n",
    "from sklearn.metrics import confusion_matrix\n",
    "from sklearn.metrics import classification_report\n",
    "from sklearn.metrics import accuracy_score\n",
    "from sklearn.metrics import roc_auc_score,roc_curve\n",
    "import warnings\n",
    "%matplotlib inline\n",
    "warnings.filterwarnings('ignore')\n",
    "\n",
    "import random\n",
    "import time\n",
    "random.seed(100)\n",
    "import os\n",
    "try:\n",
    "    import theano\n",
    "except:\n",
    "    !pip install Theano\n",
    "import theano\n",
    "import keras\n",
    "import tensorflow\n",
    "sns.set()\n",
    "from keras.layers import Dense\n",
    "from sklearn.model_selection import RandomizedSearchCV\n",
    "from scipy.stats import uniform\n",
    "   #empty model\n",
    "classifier = Sequential()\n",
    "\n",
    "from scipy.stats import chi2_contingency\n",
    "\n",
    "from sklearn.model_selection import train_test_split\n",
    "from sklearn.model_selection import cross_val_score\n",
    "from sklearn.model_selection import GridSearchCV\n",
    "from sklearn.ensemble import RandomForestClassifier\n",
    "from sklearn.svm import SVC\n",
    "\n",
    "from subprocess import check_output\n",
    "#print(check_output([\"ls\", \"../input\"]).decode(\"utf8\"))\n",
    "%matplotlib inline"
   ]
  },
  {
   "cell_type": "markdown",
   "id": "e6e43c7a",
   "metadata": {},
   "source": [
    "### II  -   Importação dos dados\n",
    "###      Lendo os dados"
   ]
  },
  {
   "cell_type": "code",
   "execution_count": 40,
   "id": "943f53c7",
   "metadata": {},
   "outputs": [
    {
     "data": {
      "text/html": [
       "<div>\n",
       "<style scoped>\n",
       "    .dataframe tbody tr th:only-of-type {\n",
       "        vertical-align: middle;\n",
       "    }\n",
       "\n",
       "    .dataframe tbody tr th {\n",
       "        vertical-align: top;\n",
       "    }\n",
       "\n",
       "    .dataframe thead th {\n",
       "        text-align: right;\n",
       "    }\n",
       "</style>\n",
       "<table border=\"1\" class=\"dataframe\">\n",
       "  <thead>\n",
       "    <tr style=\"text-align: right;\">\n",
       "      <th></th>\n",
       "      <th>age</th>\n",
       "      <th>sex</th>\n",
       "      <th>cp</th>\n",
       "      <th>trestbps</th>\n",
       "      <th>chol</th>\n",
       "      <th>fbs</th>\n",
       "      <th>restecg</th>\n",
       "      <th>thalach</th>\n",
       "      <th>exang</th>\n",
       "      <th>oldpeak</th>\n",
       "      <th>slope</th>\n",
       "      <th>ca</th>\n",
       "      <th>thal</th>\n",
       "      <th>target</th>\n",
       "    </tr>\n",
       "  </thead>\n",
       "  <tbody>\n",
       "    <tr>\n",
       "      <th>0</th>\n",
       "      <td>52</td>\n",
       "      <td>1</td>\n",
       "      <td>0</td>\n",
       "      <td>125</td>\n",
       "      <td>212</td>\n",
       "      <td>0</td>\n",
       "      <td>1</td>\n",
       "      <td>168</td>\n",
       "      <td>0</td>\n",
       "      <td>1.00</td>\n",
       "      <td>2</td>\n",
       "      <td>2</td>\n",
       "      <td>3</td>\n",
       "      <td>0</td>\n",
       "    </tr>\n",
       "    <tr>\n",
       "      <th>1</th>\n",
       "      <td>53</td>\n",
       "      <td>1</td>\n",
       "      <td>0</td>\n",
       "      <td>140</td>\n",
       "      <td>203</td>\n",
       "      <td>1</td>\n",
       "      <td>0</td>\n",
       "      <td>155</td>\n",
       "      <td>1</td>\n",
       "      <td>3.10</td>\n",
       "      <td>0</td>\n",
       "      <td>0</td>\n",
       "      <td>3</td>\n",
       "      <td>0</td>\n",
       "    </tr>\n",
       "    <tr>\n",
       "      <th>2</th>\n",
       "      <td>70</td>\n",
       "      <td>1</td>\n",
       "      <td>0</td>\n",
       "      <td>145</td>\n",
       "      <td>174</td>\n",
       "      <td>0</td>\n",
       "      <td>1</td>\n",
       "      <td>125</td>\n",
       "      <td>1</td>\n",
       "      <td>2.60</td>\n",
       "      <td>0</td>\n",
       "      <td>0</td>\n",
       "      <td>3</td>\n",
       "      <td>0</td>\n",
       "    </tr>\n",
       "    <tr>\n",
       "      <th>3</th>\n",
       "      <td>61</td>\n",
       "      <td>1</td>\n",
       "      <td>0</td>\n",
       "      <td>148</td>\n",
       "      <td>203</td>\n",
       "      <td>0</td>\n",
       "      <td>1</td>\n",
       "      <td>161</td>\n",
       "      <td>0</td>\n",
       "      <td>0.00</td>\n",
       "      <td>2</td>\n",
       "      <td>1</td>\n",
       "      <td>3</td>\n",
       "      <td>0</td>\n",
       "    </tr>\n",
       "    <tr>\n",
       "      <th>4</th>\n",
       "      <td>62</td>\n",
       "      <td>0</td>\n",
       "      <td>0</td>\n",
       "      <td>138</td>\n",
       "      <td>294</td>\n",
       "      <td>1</td>\n",
       "      <td>1</td>\n",
       "      <td>106</td>\n",
       "      <td>0</td>\n",
       "      <td>1.90</td>\n",
       "      <td>1</td>\n",
       "      <td>3</td>\n",
       "      <td>2</td>\n",
       "      <td>0</td>\n",
       "    </tr>\n",
       "  </tbody>\n",
       "</table>\n",
       "</div>"
      ],
      "text/plain": [
       "   age  sex  cp  trestbps  chol  fbs  restecg  thalach  exang  oldpeak  slope  \\\n",
       "0   52    1   0       125   212    0        1      168      0     1.00      2   \n",
       "1   53    1   0       140   203    1        0      155      1     3.10      0   \n",
       "2   70    1   0       145   174    0        1      125      1     2.60      0   \n",
       "3   61    1   0       148   203    0        1      161      0     0.00      2   \n",
       "4   62    0   0       138   294    1        1      106      0     1.90      1   \n",
       "\n",
       "   ca  thal  target  \n",
       "0   2     3       0  \n",
       "1   0     3       0  \n",
       "2   0     3       0  \n",
       "3   1     3       0  \n",
       "4   3     2       0  "
      ]
     },
     "execution_count": 40,
     "metadata": {},
     "output_type": "execute_result"
    }
   ],
   "source": [
    "df = pd.read_csv(\"heart_dowload_2.csv\", sep=';')\n",
    "df.head(5)"
   ]
  },
  {
   "cell_type": "markdown",
   "id": "b0358152",
   "metadata": {},
   "source": [
    "##### Descriptografia em atributos da página da Web da fonte de dados:"
   ]
  },
  {
   "cell_type": "code",
   "execution_count": 41,
   "id": "81056dec",
   "metadata": {},
   "outputs": [
    {
     "data": {
      "text/plain": [
       "Index(['age', 'sex', 'cp', 'trestbps', 'chol', 'fbs', 'restecg', 'thalach',\n",
       "       'exang', 'oldpeak', 'slope', 'ca', 'thal', 'target'],\n",
       "      dtype='object')"
      ]
     },
     "execution_count": 41,
     "metadata": {},
     "output_type": "execute_result"
    }
   ],
   "source": [
    "df.columns"
   ]
  },
  {
   "cell_type": "markdown",
   "id": "57086e02",
   "metadata": {},
   "source": [
    "1- age - idade em anos\n",
    "\n",
    "2- sex - sexo (1 = masculino; 0 = feminino)\n",
    "\n",
    "3- cp - tipo de dor torácica (1 = angina típica; 2 = angina atípica; 3 = dor não anginosa; 4 = assintomática)\n",
    "\n",
    "4- trestbps - pressão arterial em repouso (em mm Hg na admissão ao hospital)\n",
    "\n",
    "5- chol - soro colestoral em mg/dl, mior que 200 é ruim\n",
    "\n",
    "6- fbs - glicemia em jejum > 120 mg/dl (1 = verdadeiro; 0 = falso)\n",
    "\n",
    "7- restecg - resultados eletrocardiográficos de repouso (0 = normal; 1 = com ST-T; 2 = hipertrofia)\n",
    "\n",
    "8- thalach - frequência cardíaca máxima atingida\n",
    "\n",
    "9- exang - angina induzida pelo exercício (1 = sim; 0 = não)\n",
    "\n",
    "10- oldpeak (pico antigo) - depressão do segmento ST induzida pelo exercício em relação ao repouso\n",
    "\n",
    "11- slope (inclinação) - a inclinação do segmento ST do exercício de pico (1 = ascendente; 2 = plano; 3 = descendente)\n",
    "\n",
    "12 - ca - número de vasos principais (0-3) coloridos por fluorosopia\n",
    "\n",
    "13- thal - 1 = normal; 2 = defeito corrigido; 3 = defeito reversível\n"
   ]
  },
  {
   "cell_type": "markdown",
   "id": "15c33f85",
   "metadata": {},
   "source": [
    "## III -  Preparação dos dados"
   ]
  },
  {
   "cell_type": "markdown",
   "id": "49bf45e7",
   "metadata": {},
   "source": [
    "##### Verificando entradas nulas no dataframe"
   ]
  },
  {
   "cell_type": "code",
   "execution_count": 42,
   "id": "0051c45e",
   "metadata": {},
   "outputs": [
    {
     "data": {
      "text/plain": [
       "age         0\n",
       "sex         0\n",
       "cp          0\n",
       "trestbps    0\n",
       "chol        0\n",
       "fbs         0\n",
       "restecg     0\n",
       "thalach     0\n",
       "exang       0\n",
       "oldpeak     0\n",
       "slope       0\n",
       "ca          0\n",
       "thal        0\n",
       "target      0\n",
       "dtype: int64"
      ]
     },
     "execution_count": 42,
     "metadata": {},
     "output_type": "execute_result"
    }
   ],
   "source": [
    "df.isnull().sum()"
   ]
  },
  {
   "cell_type": "code",
   "execution_count": 43,
   "id": "df8efcb3",
   "metadata": {},
   "outputs": [
    {
     "data": {
      "text/plain": [
       "(1025, 14)"
      ]
     },
     "execution_count": 43,
     "metadata": {},
     "output_type": "execute_result"
    }
   ],
   "source": [
    "df.shape"
   ]
  },
  {
   "cell_type": "code",
   "execution_count": 45,
   "id": "ed625429",
   "metadata": {},
   "outputs": [
    {
     "name": "stdout",
     "output_type": "stream",
     "text": [
      "<class 'pandas.core.frame.DataFrame'>\n",
      "RangeIndex: 1025 entries, 0 to 1024\n",
      "Data columns (total 14 columns):\n",
      " #   Column    Non-Null Count  Dtype  \n",
      "---  ------    --------------  -----  \n",
      " 0   age       1025 non-null   int64  \n",
      " 1   sex       1025 non-null   int64  \n",
      " 2   cp        1025 non-null   int64  \n",
      " 3   trestbps  1025 non-null   int64  \n",
      " 4   chol      1025 non-null   int64  \n",
      " 5   fbs       1025 non-null   int64  \n",
      " 6   restecg   1025 non-null   int64  \n",
      " 7   thalach   1025 non-null   int64  \n",
      " 8   exang     1025 non-null   int64  \n",
      " 9   oldpeak   1025 non-null   float64\n",
      " 10  slope     1025 non-null   int64  \n",
      " 11  ca        1025 non-null   int64  \n",
      " 12  thal      1025 non-null   int64  \n",
      " 13  target    1025 non-null   int64  \n",
      "dtypes: float64(1), int64(13)\n",
      "memory usage: 112.2 KB\n"
     ]
    }
   ],
   "source": [
    "df.info()"
   ]
  },
  {
   "cell_type": "code",
   "execution_count": 46,
   "id": "e5852ddf",
   "metadata": {},
   "outputs": [
    {
     "data": {
      "text/plain": [
       "(1025, 14)"
      ]
     },
     "execution_count": 46,
     "metadata": {},
     "output_type": "execute_result"
    }
   ],
   "source": [
    "df.shape"
   ]
  },
  {
   "cell_type": "markdown",
   "id": "822f6e26",
   "metadata": {},
   "source": [
    "#### Removendo valores duplicados"
   ]
  },
  {
   "cell_type": "code",
   "execution_count": 47,
   "id": "8841d0d7",
   "metadata": {},
   "outputs": [
    {
     "data": {
      "text/plain": [
       "True"
      ]
     },
     "execution_count": 47,
     "metadata": {},
     "output_type": "execute_result"
    }
   ],
   "source": [
    "df.duplicated().any()"
   ]
  },
  {
   "cell_type": "code",
   "execution_count": 48,
   "id": "3dfc3e50",
   "metadata": {},
   "outputs": [],
   "source": [
    "df2 = df.drop_duplicates()"
   ]
  },
  {
   "cell_type": "code",
   "execution_count": 49,
   "id": "870da784",
   "metadata": {},
   "outputs": [
    {
     "data": {
      "text/plain": [
       "((1025, 14), (302, 14))"
      ]
     },
     "execution_count": 49,
     "metadata": {},
     "output_type": "execute_result"
    }
   ],
   "source": [
    "df.shape, df2.shape"
   ]
  },
  {
   "cell_type": "code",
   "execution_count": 50,
   "id": "5f044dd4",
   "metadata": {},
   "outputs": [
    {
     "data": {
      "text/html": [
       "<div>\n",
       "<style scoped>\n",
       "    .dataframe tbody tr th:only-of-type {\n",
       "        vertical-align: middle;\n",
       "    }\n",
       "\n",
       "    .dataframe tbody tr th {\n",
       "        vertical-align: top;\n",
       "    }\n",
       "\n",
       "    .dataframe thead th {\n",
       "        text-align: right;\n",
       "    }\n",
       "</style>\n",
       "<table border=\"1\" class=\"dataframe\">\n",
       "  <thead>\n",
       "    <tr style=\"text-align: right;\">\n",
       "      <th></th>\n",
       "      <th>age</th>\n",
       "      <th>sex</th>\n",
       "      <th>cp</th>\n",
       "      <th>trestbps</th>\n",
       "      <th>chol</th>\n",
       "      <th>fbs</th>\n",
       "      <th>restecg</th>\n",
       "      <th>thalach</th>\n",
       "      <th>exang</th>\n",
       "      <th>oldpeak</th>\n",
       "      <th>slope</th>\n",
       "      <th>ca</th>\n",
       "      <th>thal</th>\n",
       "      <th>target</th>\n",
       "    </tr>\n",
       "  </thead>\n",
       "  <tbody>\n",
       "    <tr>\n",
       "      <th>count</th>\n",
       "      <td>302.00</td>\n",
       "      <td>302.00</td>\n",
       "      <td>302.00</td>\n",
       "      <td>302.00</td>\n",
       "      <td>302.00</td>\n",
       "      <td>302.00</td>\n",
       "      <td>302.00</td>\n",
       "      <td>302.00</td>\n",
       "      <td>302.00</td>\n",
       "      <td>302.00</td>\n",
       "      <td>302.00</td>\n",
       "      <td>302.00</td>\n",
       "      <td>302.00</td>\n",
       "      <td>302.00</td>\n",
       "    </tr>\n",
       "    <tr>\n",
       "      <th>mean</th>\n",
       "      <td>54.42</td>\n",
       "      <td>0.68</td>\n",
       "      <td>0.96</td>\n",
       "      <td>131.60</td>\n",
       "      <td>246.50</td>\n",
       "      <td>0.15</td>\n",
       "      <td>0.53</td>\n",
       "      <td>149.57</td>\n",
       "      <td>0.33</td>\n",
       "      <td>1.04</td>\n",
       "      <td>1.40</td>\n",
       "      <td>0.72</td>\n",
       "      <td>2.31</td>\n",
       "      <td>0.54</td>\n",
       "    </tr>\n",
       "    <tr>\n",
       "      <th>std</th>\n",
       "      <td>9.05</td>\n",
       "      <td>0.47</td>\n",
       "      <td>1.03</td>\n",
       "      <td>17.56</td>\n",
       "      <td>51.75</td>\n",
       "      <td>0.36</td>\n",
       "      <td>0.53</td>\n",
       "      <td>22.90</td>\n",
       "      <td>0.47</td>\n",
       "      <td>1.16</td>\n",
       "      <td>0.62</td>\n",
       "      <td>1.01</td>\n",
       "      <td>0.61</td>\n",
       "      <td>0.50</td>\n",
       "    </tr>\n",
       "    <tr>\n",
       "      <th>min</th>\n",
       "      <td>29.00</td>\n",
       "      <td>0.00</td>\n",
       "      <td>0.00</td>\n",
       "      <td>94.00</td>\n",
       "      <td>126.00</td>\n",
       "      <td>0.00</td>\n",
       "      <td>0.00</td>\n",
       "      <td>71.00</td>\n",
       "      <td>0.00</td>\n",
       "      <td>0.00</td>\n",
       "      <td>0.00</td>\n",
       "      <td>0.00</td>\n",
       "      <td>0.00</td>\n",
       "      <td>0.00</td>\n",
       "    </tr>\n",
       "    <tr>\n",
       "      <th>25%</th>\n",
       "      <td>48.00</td>\n",
       "      <td>0.00</td>\n",
       "      <td>0.00</td>\n",
       "      <td>120.00</td>\n",
       "      <td>211.00</td>\n",
       "      <td>0.00</td>\n",
       "      <td>0.00</td>\n",
       "      <td>133.25</td>\n",
       "      <td>0.00</td>\n",
       "      <td>0.00</td>\n",
       "      <td>1.00</td>\n",
       "      <td>0.00</td>\n",
       "      <td>2.00</td>\n",
       "      <td>0.00</td>\n",
       "    </tr>\n",
       "    <tr>\n",
       "      <th>50%</th>\n",
       "      <td>55.50</td>\n",
       "      <td>1.00</td>\n",
       "      <td>1.00</td>\n",
       "      <td>130.00</td>\n",
       "      <td>240.50</td>\n",
       "      <td>0.00</td>\n",
       "      <td>1.00</td>\n",
       "      <td>152.50</td>\n",
       "      <td>0.00</td>\n",
       "      <td>0.80</td>\n",
       "      <td>1.00</td>\n",
       "      <td>0.00</td>\n",
       "      <td>2.00</td>\n",
       "      <td>1.00</td>\n",
       "    </tr>\n",
       "    <tr>\n",
       "      <th>75%</th>\n",
       "      <td>61.00</td>\n",
       "      <td>1.00</td>\n",
       "      <td>2.00</td>\n",
       "      <td>140.00</td>\n",
       "      <td>274.75</td>\n",
       "      <td>0.00</td>\n",
       "      <td>1.00</td>\n",
       "      <td>166.00</td>\n",
       "      <td>1.00</td>\n",
       "      <td>1.60</td>\n",
       "      <td>2.00</td>\n",
       "      <td>1.00</td>\n",
       "      <td>3.00</td>\n",
       "      <td>1.00</td>\n",
       "    </tr>\n",
       "    <tr>\n",
       "      <th>max</th>\n",
       "      <td>77.00</td>\n",
       "      <td>1.00</td>\n",
       "      <td>3.00</td>\n",
       "      <td>200.00</td>\n",
       "      <td>564.00</td>\n",
       "      <td>1.00</td>\n",
       "      <td>2.00</td>\n",
       "      <td>202.00</td>\n",
       "      <td>1.00</td>\n",
       "      <td>6.20</td>\n",
       "      <td>2.00</td>\n",
       "      <td>4.00</td>\n",
       "      <td>3.00</td>\n",
       "      <td>1.00</td>\n",
       "    </tr>\n",
       "  </tbody>\n",
       "</table>\n",
       "</div>"
      ],
      "text/plain": [
       "         age    sex     cp  trestbps   chol    fbs  restecg  thalach  exang  \\\n",
       "count 302.00 302.00 302.00    302.00 302.00 302.00   302.00   302.00 302.00   \n",
       "mean   54.42   0.68   0.96    131.60 246.50   0.15     0.53   149.57   0.33   \n",
       "std     9.05   0.47   1.03     17.56  51.75   0.36     0.53    22.90   0.47   \n",
       "min    29.00   0.00   0.00     94.00 126.00   0.00     0.00    71.00   0.00   \n",
       "25%    48.00   0.00   0.00    120.00 211.00   0.00     0.00   133.25   0.00   \n",
       "50%    55.50   1.00   1.00    130.00 240.50   0.00     1.00   152.50   0.00   \n",
       "75%    61.00   1.00   2.00    140.00 274.75   0.00     1.00   166.00   1.00   \n",
       "max    77.00   1.00   3.00    200.00 564.00   1.00     2.00   202.00   1.00   \n",
       "\n",
       "       oldpeak  slope     ca   thal  target  \n",
       "count   302.00 302.00 302.00 302.00  302.00  \n",
       "mean      1.04   1.40   0.72   2.31    0.54  \n",
       "std       1.16   0.62   1.01   0.61    0.50  \n",
       "min       0.00   0.00   0.00   0.00    0.00  \n",
       "25%       0.00   1.00   0.00   2.00    0.00  \n",
       "50%       0.80   1.00   0.00   2.00    1.00  \n",
       "75%       1.60   2.00   1.00   3.00    1.00  \n",
       "max       6.20   2.00   4.00   3.00    1.00  "
      ]
     },
     "execution_count": 50,
     "metadata": {},
     "output_type": "execute_result"
    }
   ],
   "source": [
    "df2.describe()"
   ]
  },
  {
   "cell_type": "markdown",
   "id": "090feffd",
   "metadata": {},
   "source": [
    "###### Aredondado os valores para duas casas decimais"
   ]
  },
  {
   "cell_type": "code",
   "execution_count": 51,
   "id": "600ce2d3",
   "metadata": {},
   "outputs": [
    {
     "data": {
      "text/html": [
       "<div>\n",
       "<style scoped>\n",
       "    .dataframe tbody tr th:only-of-type {\n",
       "        vertical-align: middle;\n",
       "    }\n",
       "\n",
       "    .dataframe tbody tr th {\n",
       "        vertical-align: top;\n",
       "    }\n",
       "\n",
       "    .dataframe thead th {\n",
       "        text-align: right;\n",
       "    }\n",
       "</style>\n",
       "<table border=\"1\" class=\"dataframe\">\n",
       "  <thead>\n",
       "    <tr style=\"text-align: right;\">\n",
       "      <th></th>\n",
       "      <th>age</th>\n",
       "      <th>sex</th>\n",
       "      <th>cp</th>\n",
       "      <th>trestbps</th>\n",
       "      <th>chol</th>\n",
       "      <th>fbs</th>\n",
       "      <th>restecg</th>\n",
       "      <th>thalach</th>\n",
       "      <th>exang</th>\n",
       "      <th>oldpeak</th>\n",
       "      <th>slope</th>\n",
       "      <th>ca</th>\n",
       "      <th>thal</th>\n",
       "      <th>target</th>\n",
       "    </tr>\n",
       "  </thead>\n",
       "  <tbody>\n",
       "    <tr>\n",
       "      <th>count</th>\n",
       "      <td>302.00</td>\n",
       "      <td>302.00</td>\n",
       "      <td>302.00</td>\n",
       "      <td>302.00</td>\n",
       "      <td>302.00</td>\n",
       "      <td>302.00</td>\n",
       "      <td>302.00</td>\n",
       "      <td>302.00</td>\n",
       "      <td>302.00</td>\n",
       "      <td>302.00</td>\n",
       "      <td>302.00</td>\n",
       "      <td>302.00</td>\n",
       "      <td>302.00</td>\n",
       "      <td>302.00</td>\n",
       "    </tr>\n",
       "    <tr>\n",
       "      <th>mean</th>\n",
       "      <td>54.42</td>\n",
       "      <td>0.68</td>\n",
       "      <td>0.96</td>\n",
       "      <td>131.60</td>\n",
       "      <td>246.50</td>\n",
       "      <td>0.15</td>\n",
       "      <td>0.53</td>\n",
       "      <td>149.57</td>\n",
       "      <td>0.33</td>\n",
       "      <td>1.04</td>\n",
       "      <td>1.40</td>\n",
       "      <td>0.72</td>\n",
       "      <td>2.31</td>\n",
       "      <td>0.54</td>\n",
       "    </tr>\n",
       "    <tr>\n",
       "      <th>std</th>\n",
       "      <td>9.05</td>\n",
       "      <td>0.47</td>\n",
       "      <td>1.03</td>\n",
       "      <td>17.56</td>\n",
       "      <td>51.75</td>\n",
       "      <td>0.36</td>\n",
       "      <td>0.53</td>\n",
       "      <td>22.90</td>\n",
       "      <td>0.47</td>\n",
       "      <td>1.16</td>\n",
       "      <td>0.62</td>\n",
       "      <td>1.01</td>\n",
       "      <td>0.61</td>\n",
       "      <td>0.50</td>\n",
       "    </tr>\n",
       "    <tr>\n",
       "      <th>min</th>\n",
       "      <td>29.00</td>\n",
       "      <td>0.00</td>\n",
       "      <td>0.00</td>\n",
       "      <td>94.00</td>\n",
       "      <td>126.00</td>\n",
       "      <td>0.00</td>\n",
       "      <td>0.00</td>\n",
       "      <td>71.00</td>\n",
       "      <td>0.00</td>\n",
       "      <td>0.00</td>\n",
       "      <td>0.00</td>\n",
       "      <td>0.00</td>\n",
       "      <td>0.00</td>\n",
       "      <td>0.00</td>\n",
       "    </tr>\n",
       "    <tr>\n",
       "      <th>25%</th>\n",
       "      <td>48.00</td>\n",
       "      <td>0.00</td>\n",
       "      <td>0.00</td>\n",
       "      <td>120.00</td>\n",
       "      <td>211.00</td>\n",
       "      <td>0.00</td>\n",
       "      <td>0.00</td>\n",
       "      <td>133.25</td>\n",
       "      <td>0.00</td>\n",
       "      <td>0.00</td>\n",
       "      <td>1.00</td>\n",
       "      <td>0.00</td>\n",
       "      <td>2.00</td>\n",
       "      <td>0.00</td>\n",
       "    </tr>\n",
       "    <tr>\n",
       "      <th>50%</th>\n",
       "      <td>55.50</td>\n",
       "      <td>1.00</td>\n",
       "      <td>1.00</td>\n",
       "      <td>130.00</td>\n",
       "      <td>240.50</td>\n",
       "      <td>0.00</td>\n",
       "      <td>1.00</td>\n",
       "      <td>152.50</td>\n",
       "      <td>0.00</td>\n",
       "      <td>0.80</td>\n",
       "      <td>1.00</td>\n",
       "      <td>0.00</td>\n",
       "      <td>2.00</td>\n",
       "      <td>1.00</td>\n",
       "    </tr>\n",
       "    <tr>\n",
       "      <th>75%</th>\n",
       "      <td>61.00</td>\n",
       "      <td>1.00</td>\n",
       "      <td>2.00</td>\n",
       "      <td>140.00</td>\n",
       "      <td>274.75</td>\n",
       "      <td>0.00</td>\n",
       "      <td>1.00</td>\n",
       "      <td>166.00</td>\n",
       "      <td>1.00</td>\n",
       "      <td>1.60</td>\n",
       "      <td>2.00</td>\n",
       "      <td>1.00</td>\n",
       "      <td>3.00</td>\n",
       "      <td>1.00</td>\n",
       "    </tr>\n",
       "    <tr>\n",
       "      <th>max</th>\n",
       "      <td>77.00</td>\n",
       "      <td>1.00</td>\n",
       "      <td>3.00</td>\n",
       "      <td>200.00</td>\n",
       "      <td>564.00</td>\n",
       "      <td>1.00</td>\n",
       "      <td>2.00</td>\n",
       "      <td>202.00</td>\n",
       "      <td>1.00</td>\n",
       "      <td>6.20</td>\n",
       "      <td>2.00</td>\n",
       "      <td>4.00</td>\n",
       "      <td>3.00</td>\n",
       "      <td>1.00</td>\n",
       "    </tr>\n",
       "  </tbody>\n",
       "</table>\n",
       "</div>"
      ],
      "text/plain": [
       "         age    sex     cp  trestbps   chol    fbs  restecg  thalach  exang  \\\n",
       "count 302.00 302.00 302.00    302.00 302.00 302.00   302.00   302.00 302.00   \n",
       "mean   54.42   0.68   0.96    131.60 246.50   0.15     0.53   149.57   0.33   \n",
       "std     9.05   0.47   1.03     17.56  51.75   0.36     0.53    22.90   0.47   \n",
       "min    29.00   0.00   0.00     94.00 126.00   0.00     0.00    71.00   0.00   \n",
       "25%    48.00   0.00   0.00    120.00 211.00   0.00     0.00   133.25   0.00   \n",
       "50%    55.50   1.00   1.00    130.00 240.50   0.00     1.00   152.50   0.00   \n",
       "75%    61.00   1.00   2.00    140.00 274.75   0.00     1.00   166.00   1.00   \n",
       "max    77.00   1.00   3.00    200.00 564.00   1.00     2.00   202.00   1.00   \n",
       "\n",
       "       oldpeak  slope     ca   thal  target  \n",
       "count   302.00 302.00 302.00 302.00  302.00  \n",
       "mean      1.04   1.40   0.72   2.31    0.54  \n",
       "std       1.16   0.62   1.01   0.61    0.50  \n",
       "min       0.00   0.00   0.00   0.00    0.00  \n",
       "25%       0.00   1.00   0.00   2.00    0.00  \n",
       "50%       0.80   1.00   0.00   2.00    1.00  \n",
       "75%       1.60   2.00   1.00   3.00    1.00  \n",
       "max       6.20   2.00   4.00   3.00    1.00  "
      ]
     },
     "execution_count": 51,
     "metadata": {},
     "output_type": "execute_result"
    }
   ],
   "source": [
    "pd.set_option(\"display.float\", \"{:.2f}\".format)\n",
    "df2.describe()"
   ]
  },
  {
   "cell_type": "markdown",
   "id": "70d54ddd",
   "metadata": {},
   "source": [
    "## Removendo Outliers"
   ]
  },
  {
   "cell_type": "code",
   "execution_count": 52,
   "id": "2c93f4f1",
   "metadata": {},
   "outputs": [
    {
     "data": {
      "text/plain": [
       "<AxesSubplot:>"
      ]
     },
     "execution_count": 52,
     "metadata": {},
     "output_type": "execute_result"
    },
    {
     "data": {
      "image/png": "[encoded data removed]",
      "text/plain": [
       "<Figure size 1080x360 with 1 Axes>"
      ]
     },
     "metadata": {
      "needs_background": "light"
     },
     "output_type": "display_data"
    }
   ],
   "source": [
    "plt.figure(figsize=(15,5))\n",
    "sns.boxplot(data=df2,orient='h')"
   ]
  },
  {
   "cell_type": "code",
   "execution_count": 53,
   "id": "0dbcb84a",
   "metadata": {},
   "outputs": [
    {
     "name": "stdout",
     "output_type": "stream",
     "text": [
      "outliers on right side in chol is \n",
      " 123    417\n",
      "158    564\n",
      "179    409\n",
      "255    394\n",
      "450    407\n",
      "Name: chol, dtype: int64 \n",
      "\n"
     ]
    },
    {
     "data": {
      "text/plain": [
       "<AxesSubplot:xlabel='chol'>"
      ]
     },
     "execution_count": 53,
     "metadata": {},
     "output_type": "execute_result"
    },
    {
     "data": {
      "image/png": "[encoded data removed]",
      "text/plain": [
       "<Figure size 432x288 with 1 Axes>"
      ]
     },
     "metadata": {
      "needs_background": "light"
     },
     "output_type": "display_data"
    }
   ],
   "source": [
    "q1 = df2.chol.quantile(0.25)\n",
    "q3 = df2.chol.quantile(0.75)\n",
    "IQR = q3 - q1\n",
    "lower_limit = q1 - 1.5 * IQR\n",
    "upper_limit = q3 + 1.5 * IQR\n",
    "k1=df2[df2[\"chol\"]>upper_limit]\n",
    "print(\"outliers on right side in chol is \\n\",k1[\"chol\"],\"\\n\")\n",
    "df2=df2[df2[\"chol\"]<upper_limit]\n",
    "sns.boxplot(df2[\"chol\"])"
   ]
  },
  {
   "cell_type": "code",
   "execution_count": 54,
   "id": "a55e434c",
   "metadata": {},
   "outputs": [
    {
     "data": {
      "text/html": [
       "<div>\n",
       "<style scoped>\n",
       "    .dataframe tbody tr th:only-of-type {\n",
       "        vertical-align: middle;\n",
       "    }\n",
       "\n",
       "    .dataframe tbody tr th {\n",
       "        vertical-align: top;\n",
       "    }\n",
       "\n",
       "    .dataframe thead th {\n",
       "        text-align: right;\n",
       "    }\n",
       "</style>\n",
       "<table border=\"1\" class=\"dataframe\">\n",
       "  <thead>\n",
       "    <tr style=\"text-align: right;\">\n",
       "      <th></th>\n",
       "      <th>age</th>\n",
       "      <th>sex</th>\n",
       "      <th>cp</th>\n",
       "      <th>trestbps</th>\n",
       "      <th>chol</th>\n",
       "      <th>fbs</th>\n",
       "      <th>restecg</th>\n",
       "      <th>thalach</th>\n",
       "      <th>exang</th>\n",
       "      <th>oldpeak</th>\n",
       "      <th>slope</th>\n",
       "      <th>ca</th>\n",
       "      <th>thal</th>\n",
       "      <th>target</th>\n",
       "    </tr>\n",
       "  </thead>\n",
       "  <tbody>\n",
       "    <tr>\n",
       "      <th>count</th>\n",
       "      <td>297.00</td>\n",
       "      <td>297.00</td>\n",
       "      <td>297.00</td>\n",
       "      <td>297.00</td>\n",
       "      <td>297.00</td>\n",
       "      <td>297.00</td>\n",
       "      <td>297.00</td>\n",
       "      <td>297.00</td>\n",
       "      <td>297.00</td>\n",
       "      <td>297.00</td>\n",
       "      <td>297.00</td>\n",
       "      <td>297.00</td>\n",
       "      <td>297.00</td>\n",
       "      <td>297.00</td>\n",
       "    </tr>\n",
       "    <tr>\n",
       "      <th>mean</th>\n",
       "      <td>54.28</td>\n",
       "      <td>0.69</td>\n",
       "      <td>0.97</td>\n",
       "      <td>131.53</td>\n",
       "      <td>243.27</td>\n",
       "      <td>0.15</td>\n",
       "      <td>0.54</td>\n",
       "      <td>149.47</td>\n",
       "      <td>0.33</td>\n",
       "      <td>1.03</td>\n",
       "      <td>1.40</td>\n",
       "      <td>0.71</td>\n",
       "      <td>2.31</td>\n",
       "      <td>0.54</td>\n",
       "    </tr>\n",
       "    <tr>\n",
       "      <th>std</th>\n",
       "      <td>9.05</td>\n",
       "      <td>0.46</td>\n",
       "      <td>1.03</td>\n",
       "      <td>17.64</td>\n",
       "      <td>45.00</td>\n",
       "      <td>0.36</td>\n",
       "      <td>0.53</td>\n",
       "      <td>23.08</td>\n",
       "      <td>0.47</td>\n",
       "      <td>1.16</td>\n",
       "      <td>0.62</td>\n",
       "      <td>1.00</td>\n",
       "      <td>0.61</td>\n",
       "      <td>0.50</td>\n",
       "    </tr>\n",
       "    <tr>\n",
       "      <th>min</th>\n",
       "      <td>29.00</td>\n",
       "      <td>0.00</td>\n",
       "      <td>0.00</td>\n",
       "      <td>94.00</td>\n",
       "      <td>126.00</td>\n",
       "      <td>0.00</td>\n",
       "      <td>0.00</td>\n",
       "      <td>71.00</td>\n",
       "      <td>0.00</td>\n",
       "      <td>0.00</td>\n",
       "      <td>0.00</td>\n",
       "      <td>0.00</td>\n",
       "      <td>0.00</td>\n",
       "      <td>0.00</td>\n",
       "    </tr>\n",
       "    <tr>\n",
       "      <th>25%</th>\n",
       "      <td>47.00</td>\n",
       "      <td>0.00</td>\n",
       "      <td>0.00</td>\n",
       "      <td>120.00</td>\n",
       "      <td>211.00</td>\n",
       "      <td>0.00</td>\n",
       "      <td>0.00</td>\n",
       "      <td>133.00</td>\n",
       "      <td>0.00</td>\n",
       "      <td>0.00</td>\n",
       "      <td>1.00</td>\n",
       "      <td>0.00</td>\n",
       "      <td>2.00</td>\n",
       "      <td>0.00</td>\n",
       "    </tr>\n",
       "    <tr>\n",
       "      <th>50%</th>\n",
       "      <td>55.00</td>\n",
       "      <td>1.00</td>\n",
       "      <td>1.00</td>\n",
       "      <td>130.00</td>\n",
       "      <td>240.00</td>\n",
       "      <td>0.00</td>\n",
       "      <td>1.00</td>\n",
       "      <td>152.00</td>\n",
       "      <td>0.00</td>\n",
       "      <td>0.70</td>\n",
       "      <td>1.00</td>\n",
       "      <td>0.00</td>\n",
       "      <td>2.00</td>\n",
       "      <td>1.00</td>\n",
       "    </tr>\n",
       "    <tr>\n",
       "      <th>75%</th>\n",
       "      <td>61.00</td>\n",
       "      <td>1.00</td>\n",
       "      <td>2.00</td>\n",
       "      <td>140.00</td>\n",
       "      <td>273.00</td>\n",
       "      <td>0.00</td>\n",
       "      <td>1.00</td>\n",
       "      <td>166.00</td>\n",
       "      <td>1.00</td>\n",
       "      <td>1.60</td>\n",
       "      <td>2.00</td>\n",
       "      <td>1.00</td>\n",
       "      <td>3.00</td>\n",
       "      <td>1.00</td>\n",
       "    </tr>\n",
       "    <tr>\n",
       "      <th>max</th>\n",
       "      <td>77.00</td>\n",
       "      <td>1.00</td>\n",
       "      <td>3.00</td>\n",
       "      <td>200.00</td>\n",
       "      <td>360.00</td>\n",
       "      <td>1.00</td>\n",
       "      <td>2.00</td>\n",
       "      <td>202.00</td>\n",
       "      <td>1.00</td>\n",
       "      <td>6.20</td>\n",
       "      <td>2.00</td>\n",
       "      <td>4.00</td>\n",
       "      <td>3.00</td>\n",
       "      <td>1.00</td>\n",
       "    </tr>\n",
       "  </tbody>\n",
       "</table>\n",
       "</div>"
      ],
      "text/plain": [
       "         age    sex     cp  trestbps   chol    fbs  restecg  thalach  exang  \\\n",
       "count 297.00 297.00 297.00    297.00 297.00 297.00   297.00   297.00 297.00   \n",
       "mean   54.28   0.69   0.97    131.53 243.27   0.15     0.54   149.47   0.33   \n",
       "std     9.05   0.46   1.03     17.64  45.00   0.36     0.53    23.08   0.47   \n",
       "min    29.00   0.00   0.00     94.00 126.00   0.00     0.00    71.00   0.00   \n",
       "25%    47.00   0.00   0.00    120.00 211.00   0.00     0.00   133.00   0.00   \n",
       "50%    55.00   1.00   1.00    130.00 240.00   0.00     1.00   152.00   0.00   \n",
       "75%    61.00   1.00   2.00    140.00 273.00   0.00     1.00   166.00   1.00   \n",
       "max    77.00   1.00   3.00    200.00 360.00   1.00     2.00   202.00   1.00   \n",
       "\n",
       "       oldpeak  slope     ca   thal  target  \n",
       "count   297.00 297.00 297.00 297.00  297.00  \n",
       "mean      1.03   1.40   0.71   2.31    0.54  \n",
       "std       1.16   0.62   1.00   0.61    0.50  \n",
       "min       0.00   0.00   0.00   0.00    0.00  \n",
       "25%       0.00   1.00   0.00   2.00    0.00  \n",
       "50%       0.70   1.00   0.00   2.00    1.00  \n",
       "75%       1.60   2.00   1.00   3.00    1.00  \n",
       "max       6.20   2.00   4.00   3.00    1.00  "
      ]
     },
     "execution_count": 54,
     "metadata": {},
     "output_type": "execute_result"
    }
   ],
   "source": [
    "df2.describe()"
   ]
  },
  {
   "cell_type": "code",
   "execution_count": 55,
   "id": "bc733722",
   "metadata": {},
   "outputs": [
    {
     "data": {
      "text/plain": [
       "<AxesSubplot:>"
      ]
     },
     "execution_count": 55,
     "metadata": {},
     "output_type": "execute_result"
    },
    {
     "data": {
      "image/png": "[encoded data removed]",
      "text/plain": [
       "<Figure size 1080x360 with 1 Axes>"
      ]
     },
     "metadata": {
      "needs_background": "light"
     },
     "output_type": "display_data"
    }
   ],
   "source": [
    "plt.figure(figsize=(15,5))\n",
    "sns.boxplot(data=df2,orient='h')"
   ]
  },
  {
   "cell_type": "code",
   "execution_count": 57,
   "id": "c59a4aa4",
   "metadata": {},
   "outputs": [
    {
     "data": {
      "text/plain": [
       "<AxesSubplot:xlabel='trestbps'>"
      ]
     },
     "execution_count": 57,
     "metadata": {},
     "output_type": "execute_result"
    },
    {
     "data": {
      "image/png": "[encoded data removed]",
      "text/plain": [
       "<Figure size 432x288 with 1 Axes>"
      ]
     },
     "metadata": {
      "needs_background": "light"
     },
     "output_type": "display_data"
    }
   ],
   "source": [
    "q1 = df2.trestbps.quantile(0.25)\n",
    "q3 = df2.trestbps.quantile(0.75)\n",
    "IQR = q3 - q1\n",
    "lower_limit = q1 - 1.5 * IQR\n",
    "upper_limit = q3 + 1.5 * IQR\n",
    "k1=df2[df2[\"chol\"] > upper_limit]\n",
    "data2=df2[df2[\"trestbps\"] < upper_limit]\n",
    "sns.boxplot(df2[\"trestbps\"])"
   ]
  },
  {
   "cell_type": "code",
   "execution_count": 58,
   "id": "b439b2d0",
   "metadata": {},
   "outputs": [
    {
     "data": {
      "text/plain": [
       "<AxesSubplot:>"
      ]
     },
     "execution_count": 58,
     "metadata": {},
     "output_type": "execute_result"
    },
    {
     "data": {
      "image/png": "[encoded data removed]",
      "text/plain": [
       "<Figure size 1080x360 with 1 Axes>"
      ]
     },
     "metadata": {
      "needs_background": "light"
     },
     "output_type": "display_data"
    }
   ],
   "source": [
    "plt.figure(figsize=(15,5))\n",
    "sns.boxplot(data=data2,orient='h')"
   ]
  },
  {
   "cell_type": "code",
   "execution_count": 59,
   "id": "e9e33f8f",
   "metadata": {},
   "outputs": [
    {
     "data": {
      "text/plain": [
       "<AxesSubplot:xlabel='thalach'>"
      ]
     },
     "execution_count": 59,
     "metadata": {},
     "output_type": "execute_result"
    },
    {
     "data": {
      "image/png": "[encoded data removed]",
      "text/plain": [
       "<Figure size 432x288 with 1 Axes>"
      ]
     },
     "metadata": {
      "needs_background": "light"
     },
     "output_type": "display_data"
    }
   ],
   "source": [
    "q1 = df2.thalach.quantile(0.25)\n",
    "q3 = df2.thalach.quantile(0.75)\n",
    "IQR = q3 - q1\n",
    "lower_limit = q1 - 1.5 * IQR\n",
    "k1=df2[df2[\"thalach\"] < lower_limit]\n",
    "data2=data2[data2[\"thalach\"] > lower_limit]\n",
    "sns.boxplot(data2[\"thalach\"])"
   ]
  },
  {
   "cell_type": "code",
   "execution_count": 60,
   "id": "c97b009c",
   "metadata": {},
   "outputs": [
    {
     "data": {
      "text/plain": [
       "<AxesSubplot:>"
      ]
     },
     "execution_count": 60,
     "metadata": {},
     "output_type": "execute_result"
    },
    {
     "data": {
      "image/png": "[encoded data removed]",
      "text/plain": [
       "<Figure size 1080x360 with 1 Axes>"
      ]
     },
     "metadata": {
      "needs_background": "light"
     },
     "output_type": "display_data"
    }
   ],
   "source": [
    "plt.figure(figsize=(15,5))\n",
    "sns.boxplot(data=data2,orient='h')"
   ]
  },
  {
   "cell_type": "code",
   "execution_count": 61,
   "id": "1cadfc51",
   "metadata": {},
   "outputs": [
    {
     "data": {
      "text/html": [
       "<div>\n",
       "<style scoped>\n",
       "    .dataframe tbody tr th:only-of-type {\n",
       "        vertical-align: middle;\n",
       "    }\n",
       "\n",
       "    .dataframe tbody tr th {\n",
       "        vertical-align: top;\n",
       "    }\n",
       "\n",
       "    .dataframe thead th {\n",
       "        text-align: right;\n",
       "    }\n",
       "</style>\n",
       "<table border=\"1\" class=\"dataframe\">\n",
       "  <thead>\n",
       "    <tr style=\"text-align: right;\">\n",
       "      <th></th>\n",
       "      <th>age</th>\n",
       "      <th>sex</th>\n",
       "      <th>cp</th>\n",
       "      <th>trestbps</th>\n",
       "      <th>chol</th>\n",
       "      <th>fbs</th>\n",
       "      <th>restecg</th>\n",
       "      <th>thalach</th>\n",
       "      <th>exang</th>\n",
       "      <th>oldpeak</th>\n",
       "      <th>slope</th>\n",
       "      <th>ca</th>\n",
       "      <th>thal</th>\n",
       "      <th>target</th>\n",
       "    </tr>\n",
       "  </thead>\n",
       "  <tbody>\n",
       "    <tr>\n",
       "      <th>count</th>\n",
       "      <td>283.00</td>\n",
       "      <td>283.00</td>\n",
       "      <td>283.00</td>\n",
       "      <td>283.00</td>\n",
       "      <td>283.00</td>\n",
       "      <td>283.00</td>\n",
       "      <td>283.00</td>\n",
       "      <td>283.00</td>\n",
       "      <td>283.00</td>\n",
       "      <td>283.00</td>\n",
       "      <td>283.00</td>\n",
       "      <td>283.00</td>\n",
       "      <td>283.00</td>\n",
       "      <td>283.00</td>\n",
       "    </tr>\n",
       "    <tr>\n",
       "      <th>mean</th>\n",
       "      <td>54.00</td>\n",
       "      <td>0.70</td>\n",
       "      <td>0.96</td>\n",
       "      <td>129.44</td>\n",
       "      <td>242.07</td>\n",
       "      <td>0.14</td>\n",
       "      <td>0.54</td>\n",
       "      <td>149.67</td>\n",
       "      <td>0.32</td>\n",
       "      <td>1.00</td>\n",
       "      <td>1.42</td>\n",
       "      <td>0.72</td>\n",
       "      <td>2.30</td>\n",
       "      <td>0.55</td>\n",
       "    </tr>\n",
       "    <tr>\n",
       "      <th>std</th>\n",
       "      <td>9.11</td>\n",
       "      <td>0.46</td>\n",
       "      <td>1.02</td>\n",
       "      <td>14.78</td>\n",
       "      <td>44.89</td>\n",
       "      <td>0.35</td>\n",
       "      <td>0.52</td>\n",
       "      <td>22.86</td>\n",
       "      <td>0.47</td>\n",
       "      <td>1.13</td>\n",
       "      <td>0.61</td>\n",
       "      <td>1.01</td>\n",
       "      <td>0.61</td>\n",
       "      <td>0.50</td>\n",
       "    </tr>\n",
       "    <tr>\n",
       "      <th>min</th>\n",
       "      <td>29.00</td>\n",
       "      <td>0.00</td>\n",
       "      <td>0.00</td>\n",
       "      <td>94.00</td>\n",
       "      <td>126.00</td>\n",
       "      <td>0.00</td>\n",
       "      <td>0.00</td>\n",
       "      <td>88.00</td>\n",
       "      <td>0.00</td>\n",
       "      <td>0.00</td>\n",
       "      <td>0.00</td>\n",
       "      <td>0.00</td>\n",
       "      <td>0.00</td>\n",
       "      <td>0.00</td>\n",
       "    </tr>\n",
       "    <tr>\n",
       "      <th>25%</th>\n",
       "      <td>47.00</td>\n",
       "      <td>0.00</td>\n",
       "      <td>0.00</td>\n",
       "      <td>120.00</td>\n",
       "      <td>209.50</td>\n",
       "      <td>0.00</td>\n",
       "      <td>0.00</td>\n",
       "      <td>132.00</td>\n",
       "      <td>0.00</td>\n",
       "      <td>0.00</td>\n",
       "      <td>1.00</td>\n",
       "      <td>0.00</td>\n",
       "      <td>2.00</td>\n",
       "      <td>0.00</td>\n",
       "    </tr>\n",
       "    <tr>\n",
       "      <th>50%</th>\n",
       "      <td>55.00</td>\n",
       "      <td>1.00</td>\n",
       "      <td>1.00</td>\n",
       "      <td>130.00</td>\n",
       "      <td>239.00</td>\n",
       "      <td>0.00</td>\n",
       "      <td>1.00</td>\n",
       "      <td>152.00</td>\n",
       "      <td>0.00</td>\n",
       "      <td>0.60</td>\n",
       "      <td>1.00</td>\n",
       "      <td>0.00</td>\n",
       "      <td>2.00</td>\n",
       "      <td>1.00</td>\n",
       "    </tr>\n",
       "    <tr>\n",
       "      <th>75%</th>\n",
       "      <td>60.00</td>\n",
       "      <td>1.00</td>\n",
       "      <td>2.00</td>\n",
       "      <td>140.00</td>\n",
       "      <td>270.50</td>\n",
       "      <td>0.00</td>\n",
       "      <td>1.00</td>\n",
       "      <td>168.00</td>\n",
       "      <td>1.00</td>\n",
       "      <td>1.60</td>\n",
       "      <td>2.00</td>\n",
       "      <td>1.00</td>\n",
       "      <td>3.00</td>\n",
       "      <td>1.00</td>\n",
       "    </tr>\n",
       "    <tr>\n",
       "      <th>max</th>\n",
       "      <td>77.00</td>\n",
       "      <td>1.00</td>\n",
       "      <td>3.00</td>\n",
       "      <td>165.00</td>\n",
       "      <td>360.00</td>\n",
       "      <td>1.00</td>\n",
       "      <td>2.00</td>\n",
       "      <td>202.00</td>\n",
       "      <td>1.00</td>\n",
       "      <td>6.20</td>\n",
       "      <td>2.00</td>\n",
       "      <td>4.00</td>\n",
       "      <td>3.00</td>\n",
       "      <td>1.00</td>\n",
       "    </tr>\n",
       "  </tbody>\n",
       "</table>\n",
       "</div>"
      ],
      "text/plain": [
       "         age    sex     cp  trestbps   chol    fbs  restecg  thalach  exang  \\\n",
       "count 283.00 283.00 283.00    283.00 283.00 283.00   283.00   283.00 283.00   \n",
       "mean   54.00   0.70   0.96    129.44 242.07   0.14     0.54   149.67   0.32   \n",
       "std     9.11   0.46   1.02     14.78  44.89   0.35     0.52    22.86   0.47   \n",
       "min    29.00   0.00   0.00     94.00 126.00   0.00     0.00    88.00   0.00   \n",
       "25%    47.00   0.00   0.00    120.00 209.50   0.00     0.00   132.00   0.00   \n",
       "50%    55.00   1.00   1.00    130.00 239.00   0.00     1.00   152.00   0.00   \n",
       "75%    60.00   1.00   2.00    140.00 270.50   0.00     1.00   168.00   1.00   \n",
       "max    77.00   1.00   3.00    165.00 360.00   1.00     2.00   202.00   1.00   \n",
       "\n",
       "       oldpeak  slope     ca   thal  target  \n",
       "count   283.00 283.00 283.00 283.00  283.00  \n",
       "mean      1.00   1.42   0.72   2.30    0.55  \n",
       "std       1.13   0.61   1.01   0.61    0.50  \n",
       "min       0.00   0.00   0.00   0.00    0.00  \n",
       "25%       0.00   1.00   0.00   2.00    0.00  \n",
       "50%       0.60   1.00   0.00   2.00    1.00  \n",
       "75%       1.60   2.00   1.00   3.00    1.00  \n",
       "max       6.20   2.00   4.00   3.00    1.00  "
      ]
     },
     "execution_count": 61,
     "metadata": {},
     "output_type": "execute_result"
    }
   ],
   "source": [
    "data2.describe()"
   ]
  },
  {
   "cell_type": "code",
   "execution_count": 62,
   "id": "8dc481cf",
   "metadata": {},
   "outputs": [
    {
     "data": {
      "text/plain": [
       "(283, 14)"
      ]
     },
     "execution_count": 62,
     "metadata": {},
     "output_type": "execute_result"
    }
   ],
   "source": [
    "data2.shape"
   ]
  },
  {
   "cell_type": "markdown",
   "id": "dc5d082f",
   "metadata": {},
   "source": [
    "#### Verificar variavel target( saber se temos um problema de classificação ou regressão)"
   ]
  },
  {
   "cell_type": "code",
   "execution_count": 63,
   "id": "71c61249",
   "metadata": {},
   "outputs": [
    {
     "name": "stdout",
     "output_type": "stream",
     "text": [
      "[0 1]\n"
     ]
    }
   ],
   "source": [
    "\n",
    "print(df['target'].unique())\n"
   ]
  },
  {
   "cell_type": "markdown",
   "id": "fd32befe",
   "metadata": {},
   "source": [
    "#### Temos um problema de classificação, pois queremos saber se o paciente tem ou não tem doenças cardíacas e quais fatores influencia para isto"
   ]
  },
  {
   "cell_type": "markdown",
   "id": "b8f13d48",
   "metadata": {},
   "source": [
    "### IV- Análise Exploratória"
   ]
  },
  {
   "cell_type": "markdown",
   "id": "1607a799",
   "metadata": {},
   "source": [
    "#### Age x oldpeak"
   ]
  },
  {
   "cell_type": "code",
   "execution_count": 64,
   "id": "95a449c3",
   "metadata": {},
   "outputs": [
    {
     "data": {
      "text/plain": [
       "Text(0, 0.5, 'oldpeak')"
      ]
     },
     "execution_count": 64,
     "metadata": {},
     "output_type": "execute_result"
    },
    {
     "data": {
      "image/png": "[encoded data removed]",
      "text/plain": [
       "<Figure size 432x288 with 1 Axes>"
      ]
     },
     "metadata": {
      "needs_background": "light"
     },
     "output_type": "display_data"
    }
   ],
   "source": [
    "X = data2[\"age\"].values\n",
    "Y = data2[\"oldpeak\"].values\n",
    "line_plot = sns.lineplot(X,Y)\n",
    "line_plot.set_xlabel(\"idade\", fontsize = 15,color=\"skyblue\")\n",
    "line_plot.set_ylabel(\"oldpeak\", fontsize = 15,color=\"skyblue\")"
   ]
  },
  {
   "cell_type": "markdown",
   "id": "a959d1da",
   "metadata": {},
   "source": [
    "### Observações do gráfico acima\n",
    "- Pessoas entre 40 e 50 anos tem os batimentos menos elevado, já as \n",
    "pessoas entre 60 e 70 anos tem os batimentos mais alto\n"
   ]
  },
  {
   "cell_type": "markdown",
   "id": "201952db",
   "metadata": {},
   "source": [
    "## Verificando quantidade pessoas com problemas cardíacos"
   ]
  },
  {
   "cell_type": "code",
   "execution_count": 65,
   "id": "7072eb1e",
   "metadata": {},
   "outputs": [
    {
     "data": {
      "text/plain": [
       "Text(0.5, 21.200000000000003, 'target')"
      ]
     },
     "execution_count": 65,
     "metadata": {},
     "output_type": "execute_result"
    },
    {
     "data": {
      "image/png": "[encoded data removed]",
      "text/plain": [
       "<Figure size 432x288 with 1 Axes>"
      ]
     },
     "metadata": {
      "needs_background": "light"
     },
     "output_type": "display_data"
    }
   ],
   "source": [
    "data2.target.value_counts().plot(kind=\"bar\", color=[\"pink\", \"purple\"]) \n",
    "line_plot.set_xlabel(\"target\", fontsize = 15,color=\"skyblue\")\n",
    "\n"
   ]
  },
  {
   "cell_type": "markdown",
   "id": "cc9466ec",
   "metadata": {},
   "source": [
    "#### Observações do gráfico acima\n",
    "- Temos em aproximadamente 165 pessoas com problemas e 140 sem problemas cardiacos"
   ]
  },
  {
   "cell_type": "markdown",
   "id": "21e4aab8",
   "metadata": {},
   "source": [
    "### Verificando problemas cardíacos com sexo (F) (M)"
   ]
  },
  {
   "cell_type": "code",
   "execution_count": 66,
   "id": "b2ad2fce",
   "metadata": {},
   "outputs": [
    {
     "data": {
      "text/plain": [
       "Text(0.5, 21.200000000000003, 'sex')"
      ]
     },
     "execution_count": 66,
     "metadata": {},
     "output_type": "execute_result"
    },
    {
     "data": {
      "image/png": "[encoded data removed]",
      "text/plain": [
       "<Figure size 432x288 with 1 Axes>"
      ]
     },
     "metadata": {
      "needs_background": "light"
     },
     "output_type": "display_data"
    }
   ],
   "source": [
    "data2.target.value_counts().plot(kind=\"bar\", color=[\"pink\", \"purple\"]) \n",
    "line_plot.set_xlabel(\"sex\", fontsize = 15,color=\"skyblue\")\n",
    "\n"
   ]
  },
  {
   "cell_type": "markdown",
   "id": "d4d7aeae",
   "metadata": {},
   "source": [
    "#### Observações do gráfico acima\n",
    "- Problemas cardíacos acontece mais em pessoas do sexo Masculino"
   ]
  },
  {
   "cell_type": "code",
   "execution_count": 67,
   "id": "645c85e2",
   "metadata": {},
   "outputs": [
    {
     "data": {
      "image/png": "[encoded data removed]",
      "text/plain": [
       "<Figure size 1440x1800 with 16 Axes>"
      ]
     },
     "metadata": {
      "needs_background": "light"
     },
     "output_type": "display_data"
    }
   ],
   "source": [
    "p = data2.hist(figsize = (20,25))"
   ]
  },
  {
   "cell_type": "markdown",
   "id": "9ed7cd80",
   "metadata": {},
   "source": [
    "#### Observações do gráfico acima:\n",
    "\n",
    "- Age- A maioria das pessoas tem idade entre 55 e 65 anos.\n",
    "- CP-(dor no peito) pessoas com dor toráxica com valores 1,2,3 são mais propensas a ter doenças cardíacas do que pessoas com cp0.\n",
    "- trestbps- 9pressão em repouso) valores acima de 130  é preocupante.\n",
    "- Chol- Soro colestoral maior que 200 é ruim.\n",
    "- Fbs- A maioria das pessoas não tem glicemia alta.\n",
    "- Thalach-  A maioria dos pacientes tiveram frequencia car´diaca entre 150 e 175 bpm.\n",
    "\n",
    "- restecg- {resultados eletrocardiográficos de repouso}: Pessoas com um valor de 1 (relatando um ritmo cardíaco anormal, que pode variar de sintomas leves a problemas graves) têm maior probabilidade de ter doenças cardíacas.\n",
    "\n",
    "- exang {angina induzida por exercício( a angina ocorre em resposta ao esforço e é aliviada durante o repouso.}: pessoas com valor 1 (SIM) são mais propensas a ter problemas cardíacos.\n",
    "\n",
    "- ca {número de vasos principais (0-3) corados por fluoroscopia}: quanto mais circulação de sangue, melhor, então pessoas com ca igual a 0 são mais propensas a ter doenças cardíacas.\n",
    "\n",
    "- tal {resultado de estresse de tálio}: Pessoas com um valor thal de 2 (defeito corrigido: uma vez foi um defeito, mas agora está ok) são mais propensos a ter doenças cardíacas."
   ]
  },
  {
   "cell_type": "markdown",
   "id": "d8df161f",
   "metadata": {},
   "source": [
    "### Comparando pessoas que tem e não tem doenças cardíacas\n",
    "\n",
    " - Antes vamos criar variaveis categoricas e  continuas"
   ]
  },
  {
   "cell_type": "code",
   "execution_count": 68,
   "id": "55376a2a",
   "metadata": {},
   "outputs": [
    {
     "name": "stdout",
     "output_type": "stream",
     "text": [
      "==============================\n",
      "age : [52 53 70 61 62 58 55 46 54 71 43 34 51 50 60 67 45 63 42 44 56 57 59 64\n",
      " 65 41 66 38 49 48 29 37 47 68 76 40 39 77 69 35 74]\n",
      "==============================\n",
      "sex : [1 0]\n",
      "==============================\n",
      "cp : [0 1 2 3]\n",
      "==============================\n",
      "trestbps : [125 140 145 148 138 100 114 160 120 122 112 132 118 128 124 106 104 135\n",
      " 130 136 129 150 146 117 152 154 134 144 108 123 110 142 126  94 165 115\n",
      " 102 105 155 164 156 101]\n",
      "==============================\n",
      "chol : [212 203 174 294 248 318 289 249 286 149 341 210 298 204 308 266 244 211\n",
      " 185 223 208 252 209 307 233 319 256 169 131 269 196 231 213 271 263 229\n",
      " 360 258 330 342 226 278 230 283 241 175 188 217 193 245 232 299 197 315\n",
      " 215 164 207 177 257 255 187 201 220 268 267 236 303 282 126 309 186 275\n",
      " 281 206 335 218 254 295 260 240 302 192 235 274 234 182 167 172 321 300\n",
      " 199 157 304 222 184 354 160 247 239 246 293 180 250 221 200 243 311 261\n",
      " 242 205 306 288 219 353 198 183 224 265 228 313 340 259 270 325 227 216\n",
      " 264 276 322 214 273 253 176 284 305 168 225 290 277 262 195 166 178 141]\n",
      "==============================\n",
      "fbs : [0 1]\n",
      "==============================\n",
      "restecg : [1 0 2]\n",
      "==============================\n",
      "thalach : [168 155 125 161 106 122 140 145 144 116 136 192 156 142 109 162 165 148\n",
      " 172 173 146 179 152 115 112 163 147 182 105 150 151 169 166 178 132 160\n",
      " 123 139 111 180 164 202 157 170 138 175 158 126 141 167 159  95 190 118\n",
      " 103 181 108 177 143 134 120 171 149 153  88 174 114  96 124 131 185 194\n",
      " 128 127 186 184 154 188 130 133 137  99 121 187  97  90 129 113]\n",
      "==============================\n",
      "exang : [0 1]\n",
      "==============================\n",
      "oldpeak : [1.  3.1 2.6 0.  1.9 4.4 0.8 3.2 1.6 3.  0.7 4.2 1.5 2.2 1.1 0.3 0.4 0.6\n",
      " 2.8 1.2 2.9 3.6 1.4 0.2 2.  5.6 0.9 1.8 6.2 4.  3.4 2.5 0.5 0.1 2.1 2.4\n",
      " 3.8 2.3 1.3 3.5]\n",
      "==============================\n",
      "slope : [2 0 1]\n",
      "==============================\n",
      "ca : [2 0 1 3 4]\n",
      "==============================\n",
      "thal : [3 2 1 0]\n",
      "==============================\n",
      "target : [0 1]\n"
     ]
    }
   ],
   "source": [
    "categorical_val = []\n",
    "continous_val = []\n",
    "for column in data2.columns:\n",
    "    print('==============================')\n",
    "    print(f\"{column} : {data2[column].unique()}\")\n",
    "    if len(df2[column].unique()) <= 10:\n",
    "        categorical_val.append(column)\n",
    "    else:\n",
    "        continous_val.append(column)"
   ]
  },
  {
   "cell_type": "code",
   "execution_count": 69,
   "id": "b2238d3c",
   "metadata": {},
   "outputs": [
    {
     "data": {
      "image/png": "[encoded data removed]",
      "text/plain": [
       "<Figure size 1080x1080 with 5 Axes>"
      ]
     },
     "metadata": {
      "needs_background": "light"
     },
     "output_type": "display_data"
    }
   ],
   "source": [
    " \n",
    "plt.figure(figsize=(15, 15))\n",
    "\n",
    "for i, column in enumerate(continous_val, 1):\n",
    "    plt.subplot(3, 2, i)\n",
    "    data2[data2[\"target\"] == 0][column].hist(bins=35, color='blue', label='Tem Doença Cardíaca = NÃO', alpha=0.6)\n",
    "    data2[data2[\"target\"] == 1][column].hist(bins=35, color='red', label='Tem Doença Cardíaca = SIM', alpha=0.6)\n",
    "    plt.legend()\n",
    "    plt.xlabel(column)"
   ]
  },
  {
   "cell_type": "markdown",
   "id": "0ad23f6c",
   "metadata": {},
   "source": [
    "#### Observações do gráfico acima:\n",
    "\n",
    "- idade : pessoas entre 42 e 53 anos são mais propensas a ter doenças cardiacas\n",
    "\n",
    "- trestbps: pressão arterial em repouso acima de 120 tem mais riscos de problemas cardiacos\n",
    "\n",
    "- col: maior que 200 é preocupante.\n",
    "\n",
    "- thalach: Pessoas com um máximo de mais de 145 são mais propensas a ter doenças cardíacas.\n",
    "\n",
    "- Oldepeak (antigo pico) de depressão do segmento ST induzida pelo exercício versus repouso analisa o estresse cardíaco durante o exercício um coração não saudável se estressará mais."
   ]
  },
  {
   "cell_type": "markdown",
   "id": "578b688e",
   "metadata": {},
   "source": [
    "### Matriz de correlção"
   ]
  },
  {
   "cell_type": "code",
   "execution_count": 70,
   "id": "0f8d9294",
   "metadata": {
    "scrolled": true
   },
   "outputs": [
    {
     "data": {
      "text/plain": [
       "(14.5, -0.5)"
      ]
     },
     "execution_count": 70,
     "metadata": {},
     "output_type": "execute_result"
    },
    {
     "data": {
      "image/png": "[encoded data removed]",
      "text/plain": [
       "<Figure size 1080x1080 with 2 Axes>"
      ]
     },
     "metadata": {
      "needs_background": "light"
     },
     "output_type": "display_data"
    }
   ],
   "source": [
    "corr_matrix = data2.corr()\n",
    "fig, ax = plt.subplots(figsize=(15, 15))\n",
    "ax = sns.heatmap(corr_matrix,\n",
    "                 annot=True,\n",
    "                 linewidths=0.5,\n",
    "                 fmt=\".2f\",\n",
    "                 cmap=\"YlGnBu\");\n",
    "bottom, top = ax.get_ylim()\n",
    "ax.set_ylim(bottom + 0.5, top - 0.5)"
   ]
  },
  {
   "cell_type": "code",
   "execution_count": 71,
   "id": "82b71626",
   "metadata": {},
   "outputs": [
    {
     "data": {
      "text/plain": [
       "<AxesSubplot:title={'center':'correlação com target'}>"
      ]
     },
     "execution_count": 71,
     "metadata": {},
     "output_type": "execute_result"
    },
    {
     "data": {
      "image/png": "[encoded data removed]",
      "text/plain": [
       "<Figure size 864x576 with 1 Axes>"
      ]
     },
     "metadata": {
      "needs_background": "light"
     },
     "output_type": "display_data"
    }
   ],
   "source": [
    "data2.drop('target', axis=1).corrwith(df.target).plot(kind='bar', grid=True, figsize=(12,8), title=\"correlação com target\")"
   ]
  },
  {
   "cell_type": "markdown",
   "id": "f85bc8bb",
   "metadata": {},
   "source": [
    "#### Observção do gráfico acima\n",
    "cp e chol são as váriaveis com menos correlação com target, todas as outras tem uma correlação significativa."
   ]
  },
  {
   "cell_type": "markdown",
   "id": "dbee3032",
   "metadata": {},
   "source": [
    "#### Age X fbs (glicemia alta)"
   ]
  },
  {
   "cell_type": "code",
   "execution_count": 72,
   "id": "71529fac",
   "metadata": {},
   "outputs": [
    {
     "data": {
      "text/plain": [
       "Text(0, 0.5, 'fbs')"
      ]
     },
     "execution_count": 72,
     "metadata": {},
     "output_type": "execute_result"
    },
    {
     "data": {
      "image/png": "[encoded data removed]",
      "text/plain": [
       "<Figure size 432x288 with 1 Axes>"
      ]
     },
     "metadata": {
      "needs_background": "light"
     },
     "output_type": "display_data"
    }
   ],
   "source": [
    "X = data2[\"age\"].values\n",
    "Y = data2[\"fbs\"].values\n",
    "line_plot = sns.lineplot(X,Y)\n",
    "line_plot.set_xlabel(\"idade\", fontsize = 15,color=\"skyblue\")\n",
    "line_plot.set_ylabel(\"fbs\", fontsize = 15,color=\"skyblue\")"
   ]
  },
  {
   "cell_type": "markdown",
   "id": "79557488",
   "metadata": {},
   "source": [
    "##### Observação do gráfico acima\n",
    " Percebe que tem poucas pessoas com a glicemia alta, porém é um fator de alta correlação para problemas cardíacos, ou seja pessoas com a glicemia alta pode desenvolve problemas cardíacos."
   ]
  },
  {
   "cell_type": "markdown",
   "id": "e7b2ba3d",
   "metadata": {},
   "source": [
    "## PROCESSAMENTO DE DADOS\n",
    "\n",
    "##### Iremos utilizar Logist Regression e Randon Forest"
   ]
  },
  {
   "cell_type": "markdown",
   "id": "77ffb1bf",
   "metadata": {},
   "source": [
    "### Treino e Teste"
   ]
  },
  {
   "cell_type": "code",
   "execution_count": 73,
   "id": "603f351f",
   "metadata": {},
   "outputs": [],
   "source": [
    "x = data2.drop('target',axis=1)\n",
    "y = data2['target']"
   ]
  },
  {
   "cell_type": "code",
   "execution_count": 74,
   "id": "63d4e716",
   "metadata": {},
   "outputs": [],
   "source": [
    "\n",
    "x_train, x_test, y_train, y_test = train_test_split(x, y, test_size = 0.25,random_state=42)\n"
   ]
  },
  {
   "cell_type": "markdown",
   "id": "56a06dd1",
   "metadata": {},
   "source": [
    "### Fetuare Scaling normalização dos dados\n"
   ]
  },
  {
   "cell_type": "code",
   "execution_count": 80,
   "id": "2525d20f",
   "metadata": {},
   "outputs": [
    {
     "data": {
      "text/plain": [
       "array([[-1.37046121,  0.65759595, -0.98367544, ...,  0.94064762,\n",
       "        -0.67382064,  1.13858757],\n",
       "       [-0.0690602 , -1.52069063, -0.98367544, ...,  0.94064762,\n",
       "        -0.67382064, -0.4706162 ],\n",
       "       [ 1.01544065,  0.65759595, -0.98367544, ...,  0.94064762,\n",
       "         1.28302834,  1.13858757],\n",
       "       ...,\n",
       "       [ 0.36474014,  0.65759595, -0.98367544, ..., -0.65469074,\n",
       "         0.30460385,  1.13858757],\n",
       "       [ 0.79854048,  0.65759595, -0.98367544, ..., -0.65469074,\n",
       "         0.30460385, -0.4706162 ],\n",
       "       [-0.17751028,  0.65759595,  1.03119599, ...,  0.94064762,\n",
       "         3.23987731, -0.4706162 ]])"
      ]
     },
     "execution_count": 80,
     "metadata": {},
     "output_type": "execute_result"
    }
   ],
   "source": [
    "scaler = StandardScaler()\n",
    "x_train = scaler.fit_transform(x_train)\n",
    "x_train"
   ]
  },
  {
   "cell_type": "code",
   "execution_count": 81,
   "id": "c068d4e2",
   "metadata": {},
   "outputs": [
    {
     "data": {
      "text/plain": [
       "array([[ 0.03938989,  0.65759595, -0.98367544, -0.48601616,  0.99956659,\n",
       "        -0.41384867, -1.068716  , -1.5101722 ,  1.52069063,  2.07019142,\n",
       "        -0.65469074,  1.28302834, -0.4706162 ],\n",
       "       [-1.37046121,  0.65759595,  1.03119599,  0.06719418, -0.6237321 ,\n",
       "        -0.41384867, -1.068716  ,  0.7545725 , -0.65759595,  0.96793797,\n",
       "        -0.65469074, -0.67382064, -0.4706162 ],\n",
       "       [-1.37046121,  0.65759595,  1.03119599, -1.17752909,  0.18791724,\n",
       "        -0.41384867,  0.90143872,  1.23365311, -0.65759595, -0.86915111,\n",
       "         0.94064762, -0.67382064, -0.4706162 ],\n",
       "       [ 0.6900904 ,  0.65759595, -0.98367544,  0.06719418, -0.80409862,\n",
       "        -0.41384867, -1.068716  , -0.81332767,  1.52069063,  1.33535579,\n",
       "        -0.65469074,  1.28302834,  1.13858757],\n",
       "       [ 0.90699057, -1.52069063, -0.98367544, -0.34771358, -0.73646118,\n",
       "        -0.41384867,  0.90143872,  0.53680859, -0.65759595, -0.86915111,\n",
       "         0.94064762, -0.67382064, -0.4706162 ],\n",
       "       [ 1.23234082,  0.65759595, -0.98367544, -0.62431875, -1.45792726,\n",
       "        -0.41384867,  0.90143872, -0.46490541, -0.65759595, -0.50173329,\n",
       "         0.94064762, -0.67382064,  1.13858757],\n",
       "       [ 0.14783997,  0.65759595,  0.02376028,  0.06719418,  0.45846702,\n",
       "        -0.41384867,  0.90143872,  0.18838633, -0.65759595, -0.86915111,\n",
       "         0.94064762, -0.67382064, -0.4706162 ],\n",
       "       [ 0.6900904 ,  0.65759595, -0.98367544, -0.27856228,  0.36828376,\n",
       "        -0.41384867, -1.068716  , -0.42135263,  1.52069063,  1.7027736 ,\n",
       "        -0.65469074,  0.30460385,  1.13858757],\n",
       "       [-1.37046121,  0.65759595,  0.02376028,  0.41295064, -0.87173607,\n",
       "        -0.41384867,  0.90143872, -0.81332767, -0.65759595, -0.86915111,\n",
       "        -0.65469074, -0.67382064, -2.07981996],\n",
       "       [ 0.14783997,  0.65759595, -0.98367544,  0.20549677,  2.5101362 ,\n",
       "        -0.41384867,  0.90143872, -0.81332767,  1.52069063,  0.23310234,\n",
       "        -0.65469074,  0.30460385,  1.13858757],\n",
       "       [ 0.36474014, -1.52069063, -0.98367544,  0.75870711, -0.01499509,\n",
       "        -0.41384867,  0.90143872, -1.20530272,  1.52069063, -0.6854422 ,\n",
       "        -0.65469074, -0.67382064,  1.13858757],\n",
       "       [ 1.34079091,  0.65759595, -0.98367544, -1.17752909, -0.66882373,\n",
       "        -0.41384867, -1.068716  , -0.81332767,  1.52069063, -0.77729665,\n",
       "         0.94064762,  0.30460385, -0.4706162 ],\n",
       "       [ 0.03938989,  0.65759595,  1.03119599,  1.45022004, -0.21790743,\n",
       "        -0.41384867, -1.068716  ,  0.62391416, -0.65759595,  0.60052016,\n",
       "         0.94064762, -0.67382064,  1.13858757],\n",
       "       [ 1.66614116,  0.65759595,  1.03119599,  0.75870711,  0.2781005 ,\n",
       "        -0.41384867, -1.068716  , -0.20358872, -0.65759595,  0.96793797,\n",
       "        -0.65469074,  2.26145282,  1.13858757],\n",
       "       [ 0.47319023, -1.52069063, -0.98367544, -2.0073446 ,  0.14282561,\n",
       "        -0.41384867, -1.068716  , -1.2488555 , -0.65759595,  0.04939343,\n",
       "        -0.65469074, -0.67382064, -0.4706162 ],\n",
       "       [ 0.58164031,  0.65759595, -0.98367544,  2.41833814, -1.48047308,\n",
       "         2.41634221, -1.068716  , -2.64254455, -0.65759595,  0.04939343,\n",
       "        -0.65469074,  1.28302834, -2.07981996],\n",
       "       [ 0.03938989,  0.65759595, -0.98367544,  0.75870711, -0.06008672,\n",
       "        -0.41384867,  0.90143872,  0.40615024, -0.65759595,  0.23310234,\n",
       "         0.94064762, -0.67382064, -0.4706162 ],\n",
       "       [-0.93666087, -1.52069063,  0.02376028,  0.06719418, -0.1728158 ,\n",
       "        -0.41384867, -1.068716  ,  1.05944198, -0.65759595, -0.31802438,\n",
       "        -0.65469074, -0.67382064, -0.4706162 ],\n",
       "       [-2.02116172,  0.65759595, -0.98367544, -0.20941099,  0.90938333,\n",
       "        -0.41384867, -1.068716  ,  0.23193911,  1.52069063, -0.86915111,\n",
       "         0.94064762, -0.67382064,  1.13858757],\n",
       "       [-0.28596037,  0.65759595,  2.03863171, -0.27856228, -0.64627792,\n",
       "        -0.41384867, -1.068716  , -1.11819715,  1.52069063,  0.41681125,\n",
       "         0.94064762,  0.30460385, -0.4706162 ],\n",
       "       [-2.12961181,  0.65759595,  2.03863171, -0.76262133, -1.34519819,\n",
       "        -0.41384867, -1.068716  ,  1.0158892 , -0.65759595, -0.86915111,\n",
       "         0.94064762, -0.67382064, -0.4706162 ],\n",
       "       [ 0.90699057, -1.52069063, -0.98367544,  2.14173296, -1.75102286,\n",
       "        -0.41384867, -1.068716  , -0.2471415 , -0.65759595,  4.82582504,\n",
       "        -2.2500291 ,  2.26145282,  1.13858757],\n",
       "       [-0.17751028,  0.65759595,  0.02376028,  0.34379935, -0.9168277 ,\n",
       "        -0.41384867,  0.90143872,  0.31904468, -0.65759595, -0.13431548,\n",
       "         0.94064762,  0.30460385, -0.4706162 ],\n",
       "       [ 0.58164031,  0.65759595,  2.03863171,  0.34379935, -0.84919026,\n",
       "        -0.41384867,  0.90143872,  0.49325581, -0.65759595, -0.13431548,\n",
       "         0.94064762,  1.28302834, -0.4706162 ],\n",
       "       [ 0.58164031,  0.65759595,  1.03119599,  1.45022004, -0.66882373,\n",
       "         2.41634221,  0.90143872,  0.27549189, -0.65759595,  0.60052016,\n",
       "         0.94064762, -0.67382064, -0.4706162 ],\n",
       "       [ 0.36474014,  0.65759595, -0.98367544, -1.31583168,  2.10431153,\n",
       "        -0.41384867,  0.90143872, -0.33424706,  1.52069063,  1.88648251,\n",
       "        -0.65469074,  0.30460385,  1.13858757],\n",
       "       [-0.93666087, -1.52069063, -0.98367544,  0.62040452, -0.12772417,\n",
       "        -0.41384867, -1.068716  ,  0.05772798,  1.52069063, -0.6854422 ,\n",
       "        -0.65469074, -0.67382064, -0.4706162 ],\n",
       "       [ 0.25629006,  0.65759595,  0.02376028, -0.62431875, -0.12772417,\n",
       "        -0.41384867,  0.90143872,  1.19010033, -0.65759595, -0.13431548,\n",
       "         0.94064762, -0.67382064, -0.4706162 ],\n",
       "       [ 1.23234082,  0.65759595,  2.03863171,  0.62040452,  0.90938333,\n",
       "         2.41634221, -1.068716  ,  1.0158892 , -0.65759595,  0.41681125,\n",
       "        -0.65469074,  0.30460385, -0.4706162 ],\n",
       "       [ 0.79854048,  0.65759595,  2.03863171,  0.34379935, -0.1728158 ,\n",
       "        -0.41384867,  0.90143872, -0.2471415 , -0.65759595,  1.5190647 ,\n",
       "        -0.65469074,  1.28302834, -0.4706162 ],\n",
       "       [ 0.47319023, -1.52069063, -0.98367544,  0.06719418, -1.00701096,\n",
       "        -0.41384867,  0.90143872, -0.85688046, -0.65759595, -0.31802438,\n",
       "        -0.65469074, -0.67382064, -0.4706162 ],\n",
       "       [-0.28596037,  0.65759595,  1.03119599, -2.42225236, -0.33063651,\n",
       "        -0.41384867,  0.90143872,  0.14483355,  1.52069063, -0.86915111,\n",
       "         0.94064762,  0.30460385,  1.13858757],\n",
       "       [ 1.88304133, -1.52069063,  1.03119599, -1.31583168,  0.52610447,\n",
       "         2.41634221, -1.068716  , -0.90043324, -0.65759595, -0.86915111,\n",
       "         0.94064762,  0.30460385, -0.4706162 ],\n",
       "       [ 0.47319023, -1.52069063,  2.03863171,  1.45022004,  0.93192914,\n",
       "         2.41634221, -1.068716  ,  0.49325581, -0.65759595,  0.04939343,\n",
       "         0.94064762, -0.67382064, -0.4706162 ],\n",
       "       [-0.0690602 ,  0.65759595, -0.98367544, -0.41686487,  0.90938333,\n",
       "        -0.41384867,  0.90143872, -2.42478063,  1.52069063,  0.96793797,\n",
       "        -0.65469074,  1.28302834,  1.13858757],\n",
       "       [ 0.03938989, -1.52069063,  1.03119599, -1.31583168, -0.6237321 ,\n",
       "        -0.41384867,  0.90143872,  0.31904468, -0.65759595,  0.60052016,\n",
       "        -0.65469074, -0.67382064, -0.4706162 ],\n",
       "       [-0.61131062,  0.65759595,  1.03119599, -0.34771358,  0.30064632,\n",
       "         2.41634221,  0.90143872,  1.05944198, -0.65759595, -0.86915111,\n",
       "         0.94064762,  1.28302834, -0.4706162 ],\n",
       "       [-1.15356104, -1.52069063,  1.03119599, -0.48601616, -0.64627792,\n",
       "        -0.41384867,  0.90143872,  0.62391416, -0.65759595, -0.6854422 ,\n",
       "        -0.65469074, -0.67382064, -0.4706162 ],\n",
       "       [ 0.14783997, -1.52069063, -0.98367544, -0.0711084 , -0.82664444,\n",
       "        -0.41384867,  2.87159344, -0.90043324,  1.52069063,  0.96793797,\n",
       "        -0.65469074,  0.30460385,  1.13858757],\n",
       "       [-1.15356104,  0.65759595, -0.98367544,  1.45022004,  0.1202798 ,\n",
       "        -0.41384867,  0.90143872,  0.88523085, -0.65759595,  0.5086657 ,\n",
       "         0.94064762, -0.67382064, -0.4706162 ],\n",
       "       [ 1.77459125,  0.65759595,  1.03119599,  2.14173296,  0.61628773,\n",
       "        -0.41384867,  0.90143872, -1.68438333,  1.52069063,  1.79462806,\n",
       "        -0.65469074,  0.30460385,  1.13858757],\n",
       "       [ 1.01544065, -1.52069063,  1.03119599,  0.41295064,  0.23300887,\n",
       "        -0.41384867, -1.068716  ,  0.92878363, -0.65759595, -0.86915111,\n",
       "         0.94064762, -0.67382064, -0.4706162 ],\n",
       "       [ 0.79854048, -1.52069063, -0.98367544,  1.10446357,  1.47302871,\n",
       "        -0.41384867, -1.068716  , -0.20358872,  1.52069063,  0.04939343,\n",
       "        -0.65469074, -0.67382064,  1.13858757],\n",
       "       [ 0.47319023,  0.65759595, -0.98367544, -2.0073446 , -0.1728158 ,\n",
       "        -0.41384867,  0.90143872,  0.23193911, -0.65759595, -0.77729665,\n",
       "         0.94064762,  0.30460385,  1.13858757],\n",
       "       [ 1.55769108,  0.65759595, -0.98367544,  1.03531228, -1.09719422,\n",
       "         2.41634221,  0.90143872, -0.42135263, -0.65759595,  2.25390033,\n",
       "        -0.65469074,  1.28302834,  1.13858757],\n",
       "       [-0.93666087,  0.65759595, -0.98367544,  0.89700969,  1.51812034,\n",
       "        -0.41384867, -1.068716  , -0.16003593,  1.52069063, -0.86915111,\n",
       "        -0.65469074,  2.26145282,  1.13858757],\n",
       "       [-0.28596037,  0.65759595,  1.03119599, -1.31583168, -1.5030189 ,\n",
       "        -0.41384867,  0.90143872, -1.20530272, -0.65759595, -0.31802438,\n",
       "         0.94064762, -0.67382064, -0.4706162 ],\n",
       "       [ 0.6900904 , -1.52069063, -0.98367544,  1.45022004,  0.36828376,\n",
       "        -0.41384867, -1.068716  ,  0.27549189, -0.65759595,  1.5190647 ,\n",
       "        -0.65469074,  1.28302834,  1.13858757],\n",
       "       [ 0.03938989,  0.65759595, -0.98367544, -1.31583168, -0.80409862,\n",
       "        -0.41384867, -1.068716  , -1.85859446,  1.52069063, -0.86915111,\n",
       "        -0.65469074,  0.30460385, -0.4706162 ],\n",
       "       [ 0.6900904 ,  0.65759595, -0.98367544,  0.06719418,  0.25555469,\n",
       "        -0.41384867,  0.90143872, -0.29069428,  1.52069063,  0.41681125,\n",
       "         0.94064762,  0.30460385,  1.13858757],\n",
       "       [-1.58736138, -1.52069063,  1.03119599,  0.62040452, -0.48845721,\n",
       "        -0.41384867,  0.90143872,  0.05772798, -0.65759595, -0.86915111,\n",
       "        -0.65469074, -0.67382064, -0.4706162 ],\n",
       "       [-0.61131062,  0.65759595, -0.98367544, -0.48601616, -0.44336558,\n",
       "        -0.41384867, -1.068716  ,  1.53852259, -0.65759595, -0.86915111,\n",
       "         0.94064762, -0.67382064, -0.4706162 ],\n",
       "       [-0.0690602 ,  0.65759595, -0.98367544,  0.89700969, -0.35318232,\n",
       "        -0.41384867, -1.068716  , -1.72793611,  1.52069063, -0.86915111,\n",
       "         0.94064762, -0.67382064,  1.13858757],\n",
       "       [ 0.47319023,  0.65759595, -0.98367544, -1.0392265 ,  1.72103267,\n",
       "        -0.41384867,  2.87159344, -0.46490541, -0.65759595,  3.17244487,\n",
       "        -2.2500291 ,  2.26145282, -2.07981996],\n",
       "       [-1.15356104,  0.65759595,  1.03119599,  0.06719418,  1.65339523,\n",
       "        -0.41384867,  0.90143872,  0.49325581, -0.65759595,  0.87608352,\n",
       "         0.94064762,  0.30460385, -0.4706162 ],\n",
       "       [ 1.01544065, -1.52069063,  0.02376028,  0.75870711, -1.05210259,\n",
       "        -0.41384867,  0.90143872,  1.23365311, -0.65759595, -0.86915111,\n",
       "         0.94064762,  1.28302834, -0.4706162 ],\n",
       "       [-1.26201113,  0.65759595,  2.03863171,  1.31191745,  0.05264235,\n",
       "        -0.41384867, -1.068716  ,  1.19010033, -0.65759595, -0.13431548,\n",
       "         0.94064762,  1.28302834, -0.4706162 ],\n",
       "       [ 0.36474014,  0.65759595, -0.98367544,  1.45022004,  0.77410844,\n",
       "        -0.41384867, -1.068716  , -1.68438333,  1.52069063, -0.31802438,\n",
       "        -0.65469074,  0.30460385, -2.07981996],\n",
       "       [-1.04511096,  0.65759595,  1.03119599,  0.06719418, -0.19536162,\n",
       "        -0.41384867,  0.90143872,  1.23365311,  1.52069063, -0.50173329,\n",
       "         0.94064762, -0.67382064, -0.4706162 ],\n",
       "       [-0.7197607 ,  0.65759595, -0.98367544, -1.31583168,  0.75156262,\n",
       "        -0.41384867, -1.068716  , -1.42306663,  1.52069063,  0.04939343,\n",
       "        -0.65469074,  0.30460385, -0.4706162 ],\n",
       "       [ 0.25629006,  0.65759595,  0.02376028,  0.06719418, -0.4659114 ,\n",
       "        -0.41384867, -1.068716  ,  0.53680859, -0.65759595, -0.86915111,\n",
       "         0.94064762, -0.67382064,  1.13858757],\n",
       "       [ 0.36474014,  0.65759595, -0.98367544,  0.20549677, -0.78155281,\n",
       "        -0.41384867,  0.90143872,  0.7545725 ,  1.52069063, -0.86915111,\n",
       "         0.94064762, -0.67382064,  1.13858757],\n",
       "       [ 1.44924099,  0.65759595, -0.98367544, -0.62431875, -0.28554488,\n",
       "        -0.41384867, -1.068716  , -0.94398602,  1.52069063,  1.5190647 ,\n",
       "        -0.65469074,  1.28302834,  1.13858757],\n",
       "       [ 0.6900904 ,  0.65759595,  1.03119599,  0.75870711, -1.27756074,\n",
       "        -0.41384867, -1.068716  ,  0.18838633, -0.65759595,  1.88648251,\n",
       "        -0.65469074, -0.67382064, -0.4706162 ],\n",
       "       [ 0.36474014, -1.52069063, -0.98367544, -0.62431875,  2.53268202,\n",
       "        -0.41384867,  0.90143872,  0.53680859,  1.52069063, -0.31802438,\n",
       "         0.94064762, -0.67382064, -0.4706162 ],\n",
       "       [ 0.36474014,  0.65759595, -0.98367544,  2.48748943,  1.06720403,\n",
       "         2.41634221, -1.068716  , -1.16174993, -0.65759595,  0.04939343,\n",
       "        -0.65469074,  2.26145282,  1.13858757],\n",
       "       [-0.28596037, -1.52069063,  1.03119599,  0.75870711,  1.49557452,\n",
       "        -0.41384867, -1.068716  , -0.37779985, -0.65759595,  0.5086657 ,\n",
       "         0.94064762,  0.30460385, -0.4706162 ],\n",
       "       [ 1.88304133, -1.52069063, -0.98367544, -1.17752909, -2.08921009,\n",
       "        -0.41384867,  0.90143872, -1.11819715, -0.65759595,  0.60052016,\n",
       "        -0.65469074, -0.67382064, -0.4706162 ],\n",
       "       [ 1.34079091,  0.65759595, -0.98367544, -0.62431875,  1.36029963,\n",
       "        -0.41384867, -1.068716  ,  0.0141752 , -0.65759595, -0.50173329,\n",
       "        -0.65469074, -0.67382064, -0.4706162 ],\n",
       "       [ 1.23234082, -1.52069063,  1.03119599,  2.14173296,  2.66795691,\n",
       "        -0.41384867, -1.068716  ,  0.0141752 , -0.65759595, -0.13431548,\n",
       "         0.94064762, -0.67382064, -0.4706162 ],\n",
       "       [ 0.03938989,  0.65759595, -0.98367544, -0.34771358,  0.54865029,\n",
       "        -0.41384867, -1.068716  , -1.81504167,  1.52069063,  1.15164688,\n",
       "        -0.65469074,  0.30460385,  1.13858757]])"
      ]
     },
     "execution_count": 81,
     "metadata": {},
     "output_type": "execute_result"
    }
   ],
   "source": [
    "x_test = scaler.transform(x_test)\n",
    "x_test"
   ]
  },
  {
   "cell_type": "markdown",
   "id": "54655488",
   "metadata": {},
   "source": [
    "### Logist Regression"
   ]
  },
  {
   "cell_type": "code",
   "execution_count": 82,
   "id": "d6c002fb",
   "metadata": {},
   "outputs": [
    {
     "data": {
      "text/plain": [
       "LogisticRegression()"
      ]
     },
     "execution_count": 82,
     "metadata": {},
     "output_type": "execute_result"
    }
   ],
   "source": [
    "\n",
    "lr = LogisticRegression()\n",
    "lr.fit(x_train, y_train)"
   ]
  },
  {
   "cell_type": "code",
   "execution_count": 83,
   "id": "69769414",
   "metadata": {},
   "outputs": [
    {
     "data": {
      "text/html": [
       "<div>\n",
       "<style scoped>\n",
       "    .dataframe tbody tr th:only-of-type {\n",
       "        vertical-align: middle;\n",
       "    }\n",
       "\n",
       "    .dataframe tbody tr th {\n",
       "        vertical-align: top;\n",
       "    }\n",
       "\n",
       "    .dataframe thead th {\n",
       "        text-align: right;\n",
       "    }\n",
       "</style>\n",
       "<table border=\"1\" class=\"dataframe\">\n",
       "  <thead>\n",
       "    <tr style=\"text-align: right;\">\n",
       "      <th></th>\n",
       "      <th>Actual</th>\n",
       "      <th>Predicted</th>\n",
       "    </tr>\n",
       "  </thead>\n",
       "  <tbody>\n",
       "    <tr>\n",
       "      <th>0</th>\n",
       "      <td>0</td>\n",
       "      <td>0</td>\n",
       "    </tr>\n",
       "    <tr>\n",
       "      <th>1</th>\n",
       "      <td>1</td>\n",
       "      <td>1</td>\n",
       "    </tr>\n",
       "    <tr>\n",
       "      <th>2</th>\n",
       "      <td>1</td>\n",
       "      <td>1</td>\n",
       "    </tr>\n",
       "    <tr>\n",
       "      <th>3</th>\n",
       "      <td>0</td>\n",
       "      <td>0</td>\n",
       "    </tr>\n",
       "    <tr>\n",
       "      <th>4</th>\n",
       "      <td>1</td>\n",
       "      <td>1</td>\n",
       "    </tr>\n",
       "  </tbody>\n",
       "</table>\n",
       "</div>"
      ],
      "text/plain": [
       "   Actual  Predicted\n",
       "0       0          0\n",
       "1       1          1\n",
       "2       1          1\n",
       "3       0          0\n",
       "4       1          1"
      ]
     },
     "execution_count": 83,
     "metadata": {},
     "output_type": "execute_result"
    }
   ],
   "source": [
    "lr_pred = lr.predict(x_test)\n",
    "pd.DataFrame(np.c_[y_test,lr_pred],columns=['Actual','Predicted']).head(5)\n"
   ]
  },
  {
   "cell_type": "code",
   "execution_count": 84,
   "id": "d0f9950f",
   "metadata": {
    "scrolled": true
   },
   "outputs": [
    {
     "name": "stdout",
     "output_type": "stream",
     "text": [
      " Test Accuracy score :  83.1 %\n",
      "Train Accuracy score :  84.43 %\n",
      "----------------------\n",
      "Classification Report\n",
      "----------------------\n"
     ]
    },
    {
     "data": {
      "text/plain": [
       "Text(5.300000000000001, 0.5, 'Predicted Values')"
      ]
     },
     "execution_count": 84,
     "metadata": {},
     "output_type": "execute_result"
    },
    {
     "data": {
      "image/png": "[encoded data removed]",
      "text/plain": [
       "<Figure size 360x216 with 2 Axes>"
      ]
     },
     "metadata": {
      "needs_background": "light"
     },
     "output_type": "display_data"
    }
   ],
   "source": [
    "print(\" Test Accuracy score : \",round(lr.score(x_test,y_test)*100,2),\"%\")\n",
    "print(\"Train Accuracy score : \",round(lr.score(x_train,y_train)*100,2),\"%\")\n",
    "print(\"----------------------\")\n",
    "print(\"Classification Report\")\n",
    "print(\"----------------------\")\n",
    "con = confusion_matrix(lr_pred,y_test)\n",
    "plt.figure(figsize=(5,3))\n",
    "sns.heatmap(con, annot=True,cmap=\"YlGnBu\",fmt='g')\n",
    "plt.xlabel('Actual Values')\n",
    "plt.ylabel('Predicted Values')\n",
    "#print(classification_report(y_test,lr_pred))\n"
   ]
  },
  {
   "cell_type": "code",
   "execution_count": 85,
   "id": "cade1ebe",
   "metadata": {},
   "outputs": [
    {
     "data": {
      "text/plain": [
       "0.835483870967742"
      ]
     },
     "execution_count": 85,
     "metadata": {},
     "output_type": "execute_result"
    }
   ],
   "source": [
    "auc = roc_auc_score(y_test,lr_pred)\n",
    "auc"
   ]
  },
  {
   "cell_type": "code",
   "execution_count": 86,
   "id": "c600f308",
   "metadata": {},
   "outputs": [
    {
     "data": {
      "image/png": "[encoded data removed]",
      "text/plain": [
       "<Figure size 576x360 with 1 Axes>"
      ]
     },
     "metadata": {
      "needs_background": "light"
     },
     "output_type": "display_data"
    }
   ],
   "source": [
    "from sklearn.metrics import roc_curve\n",
    "fpr, tpr, thresholds = roc_curve(y_test,lr_pred)\n",
    "plt.figure(figsize=(8,5))\n",
    "plt.plot(fpr , tpr , color='red',label='ROC')\n",
    "plt.plot([0,1],[0,1],color = 'darkblue',linestyle='--',label='ROC curve(area = %0.2f)'% auc)\n",
    "plt.xlabel('False positive rate')\n",
    "plt.ylabel('True positive rate')\n",
    "plt.title('Receiver Operating Characterstics (ROC) curve')\n",
    "plt.legend()\n",
    "plt.show()"
   ]
  },
  {
   "cell_type": "markdown",
   "id": "f6f0849e",
   "metadata": {},
   "source": [
    "### Random forest"
   ]
  },
  {
   "cell_type": "code",
   "execution_count": 87,
   "id": "345d4e27",
   "metadata": {},
   "outputs": [
    {
     "data": {
      "text/plain": [
       "RandomForestClassifier(max_depth=4)"
      ]
     },
     "execution_count": 87,
     "metadata": {},
     "output_type": "execute_result"
    }
   ],
   "source": [
    "rfc = RandomForestClassifier(max_depth=4)\n",
    "rfc.fit(x_train, y_train)"
   ]
  },
  {
   "cell_type": "code",
   "execution_count": 88,
   "id": "d8fc9875",
   "metadata": {
    "scrolled": false
   },
   "outputs": [
    {
     "data": {
      "text/html": [
       "<div>\n",
       "<style scoped>\n",
       "    .dataframe tbody tr th:only-of-type {\n",
       "        vertical-align: middle;\n",
       "    }\n",
       "\n",
       "    .dataframe tbody tr th {\n",
       "        vertical-align: top;\n",
       "    }\n",
       "\n",
       "    .dataframe thead th {\n",
       "        text-align: right;\n",
       "    }\n",
       "</style>\n",
       "<table border=\"1\" class=\"dataframe\">\n",
       "  <thead>\n",
       "    <tr style=\"text-align: right;\">\n",
       "      <th></th>\n",
       "      <th>Actual</th>\n",
       "      <th>Predicted</th>\n",
       "    </tr>\n",
       "  </thead>\n",
       "  <tbody>\n",
       "    <tr>\n",
       "      <th>0</th>\n",
       "      <td>0</td>\n",
       "      <td>0</td>\n",
       "    </tr>\n",
       "    <tr>\n",
       "      <th>1</th>\n",
       "      <td>1</td>\n",
       "      <td>1</td>\n",
       "    </tr>\n",
       "    <tr>\n",
       "      <th>2</th>\n",
       "      <td>1</td>\n",
       "      <td>1</td>\n",
       "    </tr>\n",
       "    <tr>\n",
       "      <th>3</th>\n",
       "      <td>0</td>\n",
       "      <td>0</td>\n",
       "    </tr>\n",
       "    <tr>\n",
       "      <th>4</th>\n",
       "      <td>1</td>\n",
       "      <td>1</td>\n",
       "    </tr>\n",
       "  </tbody>\n",
       "</table>\n",
       "</div>"
      ],
      "text/plain": [
       "   Actual  Predicted\n",
       "0       0          0\n",
       "1       1          1\n",
       "2       1          1\n",
       "3       0          0\n",
       "4       1          1"
      ]
     },
     "execution_count": 88,
     "metadata": {},
     "output_type": "execute_result"
    }
   ],
   "source": [
    "rfc_pred = rfc.predict(x_test)\n",
    "pd.DataFrame(np.c_[y_test,rfc_pred],columns=['Actual','Predicted']).head()"
   ]
  },
  {
   "cell_type": "code",
   "execution_count": 89,
   "id": "bd8e0016",
   "metadata": {},
   "outputs": [
    {
     "name": "stdout",
     "output_type": "stream",
     "text": [
      " Test Accuracy score :  90.14 %\n",
      "Train Accuracy score :  90.57 %\n",
      "----------------------\n",
      "Classification Report\n",
      "----------------------\n",
      "              precision    recall  f1-score   support\n",
      "\n",
      "           0       0.90      0.87      0.89        31\n",
      "           1       0.90      0.93      0.91        40\n",
      "\n",
      "    accuracy                           0.90        71\n",
      "   macro avg       0.90      0.90      0.90        71\n",
      "weighted avg       0.90      0.90      0.90        71\n",
      "\n"
     ]
    },
    {
     "data": {
      "image/png": "[encoded data removed]",
      "text/plain": [
       "<Figure size 360x216 with 2 Axes>"
      ]
     },
     "metadata": {
      "needs_background": "light"
     },
     "output_type": "display_data"
    }
   ],
   "source": [
    "print(\" Test Accuracy score : \",round(rfc.score(x_test,y_test)*100,2),\"%\")\n",
    "print(\"Train Accuracy score : \",round(rfc.score(x_train,y_train)*100,2),\"%\")\n",
    "clf_con = confusion_matrix(y_test,rfc_pred)\n",
    "print(\"----------------------\")\n",
    "print(\"Classification Report\")\n",
    "print(\"----------------------\")\n",
    "print(classification_report(y_test,rfc_pred))\n",
    "plt.figure(figsize=(5,3))\n",
    "sns.heatmap(clf_con, annot=True,cmap=\"YlGnBu\",fmt='g')\n",
    "plt.xlabel('Actual Values')\n",
    "plt.ylabel('Predicted Values')\n",
    "plt.show()"
   ]
  },
  {
   "cell_type": "code",
   "execution_count": 90,
   "id": "f8a74df3",
   "metadata": {},
   "outputs": [
    {
     "data": {
      "text/plain": [
       "0.897983870967742"
      ]
     },
     "execution_count": 90,
     "metadata": {},
     "output_type": "execute_result"
    }
   ],
   "source": [
    "auc = roc_auc_score(y_test,rfc_pred)\n",
    "auc"
   ]
  },
  {
   "cell_type": "code",
   "execution_count": 407,
   "id": "a4c32ce2",
   "metadata": {},
   "outputs": [
    {
     "data": {
      "image/png": "[encoded data removed]",
      "text/plain": [
       "<Figure size 576x360 with 1 Axes>"
      ]
     },
     "metadata": {
      "needs_background": "light"
     },
     "output_type": "display_data"
    }
   ],
   "source": [
    "fpr, tpr, thresholds = roc_curve(y_test,rfc_pred)\n",
    "plt.figure(figsize=(8,5))\n",
    "plt.plot(fpr , tpr , color='red',label='ROC')\n",
    "plt.plot([0,1],[0,1],color = 'darkblue',linestyle='--',label='ROC curve(area = %0.2f)'% auc)\n",
    "plt.xlabel('False positive rate')\n",
    "plt.ylabel('True positive rate')\n",
    "plt.title('Receiver Operating Characterstics (ROC) curve')\n",
    "plt.legend()\n",
    "plt.show()"
   ]
  },
  {
   "cell_type": "markdown",
   "id": "1f813cac",
   "metadata": {},
   "source": [
    "### Comparação entre os Modelos"
   ]
  },
  {
   "cell_type": "code",
   "execution_count": 91,
   "id": "d8d9485b",
   "metadata": {},
   "outputs": [
    {
     "data": {
      "text/html": [
       "<div>\n",
       "<style scoped>\n",
       "    .dataframe tbody tr th:only-of-type {\n",
       "        vertical-align: middle;\n",
       "    }\n",
       "\n",
       "    .dataframe tbody tr th {\n",
       "        vertical-align: top;\n",
       "    }\n",
       "\n",
       "    .dataframe thead th {\n",
       "        text-align: right;\n",
       "    }\n",
       "</style>\n",
       "<table border=\"1\" class=\"dataframe\">\n",
       "  <thead>\n",
       "    <tr style=\"text-align: right;\">\n",
       "      <th></th>\n",
       "      <th>Models</th>\n",
       "      <th>Test Accuracy</th>\n",
       "      <th>Train Accuracy</th>\n",
       "    </tr>\n",
       "  </thead>\n",
       "  <tbody>\n",
       "    <tr>\n",
       "      <th>1</th>\n",
       "      <td>Random Forest</td>\n",
       "      <td>90.14</td>\n",
       "      <td>90.57</td>\n",
       "    </tr>\n",
       "    <tr>\n",
       "      <th>0</th>\n",
       "      <td>Logistic Regression</td>\n",
       "      <td>83.10</td>\n",
       "      <td>84.43</td>\n",
       "    </tr>\n",
       "  </tbody>\n",
       "</table>\n",
       "</div>"
      ],
      "text/plain": [
       "                Models  Test Accuracy  Train Accuracy\n",
       "1        Random Forest          90.14           90.57\n",
       "0  Logistic Regression          83.10           84.43"
      ]
     },
     "execution_count": 91,
     "metadata": {},
     "output_type": "execute_result"
    }
   ],
   "source": [
    "data = { 'Models' : ['Logistic Regression','Random Forest'],\n",
    "         'Test Accuracy' : [round(lr.score(x_test,y_test)*100,2), round(rfc.score(x_test,y_test)*100,2)],\n",
    "         'Train Accuracy': [round(lr.score(x_train,y_train)*100,2),round(rfc.score(x_train,y_train)*100,2)],\n",
    "       }\n",
    "\n",
    "df = pd.DataFrame(data)\n",
    "df.sort_values(by='Test Accuracy',ascending=False)"
   ]
  },
  {
   "cell_type": "code",
   "execution_count": 92,
   "id": "752e33ad",
   "metadata": {},
   "outputs": [
    {
     "data": {
      "image/png": "[encoded data removed]",
      "text/plain": [
       "<Figure size 360x432 with 1 Axes>"
      ]
     },
     "metadata": {
      "needs_background": "light"
     },
     "output_type": "display_data"
    }
   ],
   "source": [
    "plt.figure(figsize = (5,6))\n",
    "sns.barplot(x='Models', y='Test Accuracy',data=df)\n",
    "plt.show()"
   ]
  },
  {
   "cell_type": "markdown",
   "id": "2a171923",
   "metadata": {},
   "source": [
    "### Análise dos modelos \n",
    "##### Utilazamos dois modelos de algoritmos diferentes, o que melhor performou foi o Randon Forest pois o percentual  da sua acuracy é melhor."
   ]
  },
  {
   "cell_type": "markdown",
   "id": "bbd1186c",
   "metadata": {},
   "source": [
    "# Otimizar os modelos"
   ]
  },
  {
   "cell_type": "markdown",
   "id": "36496113",
   "metadata": {},
   "source": [
    "### RandomForest"
   ]
  },
  {
   "cell_type": "code",
   "execution_count": 95,
   "id": "619cc0e2",
   "metadata": {},
   "outputs": [],
   "source": [
    "rfc=RandomForestClassifier(random_state=42)\n"
   ]
  },
  {
   "cell_type": "code",
   "execution_count": 96,
   "id": "32a4ccfb",
   "metadata": {},
   "outputs": [],
   "source": [
    "param_grid = { \n",
    "    'n_estimators': [200, 500],\n",
    "    'max_features': ['auto', 'sqrt', 'log2'],\n",
    "    'max_depth' : [4,5,6,7,8],\n",
    "    'criterion' :['gini', 'entropy']\n",
    "}"
   ]
  },
  {
   "cell_type": "code",
   "execution_count": 98,
   "id": "cea445f4",
   "metadata": {},
   "outputs": [
    {
     "data": {
      "text/plain": [
       "GridSearchCV(cv=5, estimator=RandomForestClassifier(random_state=42),\n",
       "             param_grid={'criterion': ['gini', 'entropy'],\n",
       "                         'max_depth': [4, 5, 6, 7, 8],\n",
       "                         'max_features': ['auto', 'sqrt', 'log2'],\n",
       "                         'n_estimators': [200, 500]})"
      ]
     },
     "execution_count": 98,
     "metadata": {},
     "output_type": "execute_result"
    }
   ],
   "source": [
    "CV_rfc = GridSearchCV(estimator=rfc, param_grid=param_grid, cv= 5)\n",
    "CV_rfc.fit(x_train, y_train)"
   ]
  },
  {
   "cell_type": "code",
   "execution_count": 99,
   "id": "0b775dbd",
   "metadata": {},
   "outputs": [
    {
     "data": {
      "text/plain": [
       "{'criterion': 'gini',\n",
       " 'max_depth': 4,\n",
       " 'max_features': 'auto',\n",
       " 'n_estimators': 500}"
      ]
     },
     "execution_count": 99,
     "metadata": {},
     "output_type": "execute_result"
    }
   ],
   "source": [
    "CV_rfc.best_params_"
   ]
  },
  {
   "cell_type": "code",
   "execution_count": 100,
   "id": "fc9fde9a",
   "metadata": {},
   "outputs": [],
   "source": [
    "rfc1=RandomForestClassifier(random_state=42, max_features='auto', n_estimators= 500, max_depth=4, criterion='gini')"
   ]
  },
  {
   "cell_type": "code",
   "execution_count": 101,
   "id": "45a9c818",
   "metadata": {},
   "outputs": [
    {
     "data": {
      "text/plain": [
       "RandomForestClassifier(max_depth=4, n_estimators=500, random_state=42)"
      ]
     },
     "execution_count": 101,
     "metadata": {},
     "output_type": "execute_result"
    }
   ],
   "source": [
    "rfc1.fit(x_train, y_train)"
   ]
  },
  {
   "cell_type": "code",
   "execution_count": 102,
   "id": "21921387",
   "metadata": {},
   "outputs": [],
   "source": [
    "pred=rfc1.predict(x_test)\n"
   ]
  },
  {
   "cell_type": "code",
   "execution_count": 103,
   "id": "b54426dc",
   "metadata": {},
   "outputs": [
    {
     "name": "stdout",
     "output_type": "stream",
     "text": [
      "Accuracy for Random Forest on CV data:  0.9014084507042254\n"
     ]
    }
   ],
   "source": [
    "print(\"Accuracy for Random Forest on CV data: \",accuracy_score(y_test,pred))"
   ]
  },
  {
   "cell_type": "code",
   "execution_count": 104,
   "id": "d75e463d",
   "metadata": {
    "scrolled": true
   },
   "outputs": [
    {
     "name": "stdout",
     "output_type": "stream",
     "text": [
      " Test Accuracy score :  90.14 %\n",
      "Train Accuracy score :  92.45 %\n"
     ]
    }
   ],
   "source": [
    "print(\" Test Accuracy score : \",round(rfc1.score(x_test,y_test)*100,2),\"%\")\n",
    "print(\"Train Accuracy score : \",round(rfc1.score(x_train,y_train)*100,2),\"%\")"
   ]
  },
  {
   "cell_type": "markdown",
   "id": "bc390ff9",
   "metadata": {},
   "source": [
    "### logist regression"
   ]
  },
  {
   "cell_type": "code",
   "execution_count": 106,
   "id": "1657b8fa",
   "metadata": {},
   "outputs": [],
   "source": [
    "x_train, x_test, y_train, y_test=train_test_split(x,y,test_size=0.3)"
   ]
  },
  {
   "cell_type": "code",
   "execution_count": 110,
   "id": "1b0b7501",
   "metadata": {},
   "outputs": [
    {
     "name": "stdout",
     "output_type": "stream",
     "text": [
      "tuned hpyerparameters :(best parameters)  {'C': 0.1, 'penalty': 'l2'}\n",
      "accuracy : 0.8439473684210526\n"
     ]
    }
   ],
   "source": [
    "from sklearn.model_selection import GridSearchCV\n",
    "from sklearn.linear_model import LogisticRegression\n",
    "\n",
    "grid={\"C\":np.logspace(-3,3,7), \"penalty\":[\"l1\",\"l2\"]}# l1 lasso l2 ridge\n",
    "logreg=LogisticRegression()\n",
    "logreg_cv=GridSearchCV(logreg,grid,cv=10)\n",
    "logreg_cv.fit(x_train,y_train)\n",
    "\n",
    "print(\"tuned hpyerparameters :(best parameters) \",logreg_cv.best_params_)\n",
    "print(\"accuracy :\",logreg_cv.best_score_)"
   ]
  },
  {
   "cell_type": "code",
   "execution_count": 114,
   "id": "45d33b55",
   "metadata": {},
   "outputs": [
    {
     "name": "stdout",
     "output_type": "stream",
     "text": [
      "score 0.8117647058823529\n"
     ]
    }
   ],
   "source": [
    "logreg2=LogisticRegression(C=0.1,penalty=\"l2\")\n",
    "logreg2.fit(x_train,y_train)\n",
    "print(\"score\",logreg2.score(x_test,y_test))"
   ]
  },
  {
   "cell_type": "code",
   "execution_count": 115,
   "id": "6e203c16",
   "metadata": {},
   "outputs": [],
   "source": [
    "lr_pred2 = logreg_cv.predict(x_test)"
   ]
  },
  {
   "cell_type": "code",
   "execution_count": 116,
   "id": "269bdbb4",
   "metadata": {},
   "outputs": [
    {
     "name": "stdout",
     "output_type": "stream",
     "text": [
      " Test Accuracy score :  81.18 %\n",
      "Train Accuracy score :  85.86 %\n"
     ]
    }
   ],
   "source": [
    "print(\" Test Accuracy score : \",round(logreg_cv.score(x_test,y_test)*100,2),\"%\")\n",
    "print(\"Train Accuracy score : \",round(logreg_cv.score(x_train,y_train)*100,2),\"%\")"
   ]
  },
  {
   "cell_type": "markdown",
   "id": "93b71c7f",
   "metadata": {},
   "source": [
    "## Testing Randon Forest"
   ]
  },
  {
   "cell_type": "markdown",
   "id": "9c4da120",
   "metadata": {},
   "source": [
    "- O nosso problema foi analisar os dados e implementar algoritmos de Marchine Learning para prever doenças cardíacas. Com base nos nossos dados notamos que tem aproximadamente 165 pessoas com problemas cardíacos e 140 pessoas sem problemas, a maioria do sexo masculino, pessoas com idade entre 42 e 53 anos são propensoas a ter problemas à partir dos 53 anos os batimentos cardíacos são mais elevados, pressão arterial acima de 120 é um risco. Para ter melhor acertividade, utilizamos modelo de logistRegression e Randon Forest. No qual o Randon Forest teve melhor Acuracy, com acertividade de 91.51%. \n",
    "- Então vamos pegar alguns pacientes aleatoriamnete para testar com o modelo de Randon Forest pois ele foi o melhor."
   ]
  },
  {
   "cell_type": "code",
   "execution_count": 117,
   "id": "c08395b3",
   "metadata": {},
   "outputs": [
    {
     "data": {
      "text/html": [
       "<div>\n",
       "<style scoped>\n",
       "    .dataframe tbody tr th:only-of-type {\n",
       "        vertical-align: middle;\n",
       "    }\n",
       "\n",
       "    .dataframe tbody tr th {\n",
       "        vertical-align: top;\n",
       "    }\n",
       "\n",
       "    .dataframe thead th {\n",
       "        text-align: right;\n",
       "    }\n",
       "</style>\n",
       "<table border=\"1\" class=\"dataframe\">\n",
       "  <thead>\n",
       "    <tr style=\"text-align: right;\">\n",
       "      <th></th>\n",
       "      <th>age</th>\n",
       "      <th>sex</th>\n",
       "      <th>cp</th>\n",
       "      <th>trestbps</th>\n",
       "      <th>chol</th>\n",
       "      <th>fbs</th>\n",
       "      <th>restecg</th>\n",
       "      <th>thalach</th>\n",
       "      <th>exang</th>\n",
       "      <th>oldpeak</th>\n",
       "      <th>slope</th>\n",
       "      <th>ca</th>\n",
       "      <th>thal</th>\n",
       "      <th>target</th>\n",
       "    </tr>\n",
       "  </thead>\n",
       "  <tbody>\n",
       "    <tr>\n",
       "      <th>0</th>\n",
       "      <td>52</td>\n",
       "      <td>1</td>\n",
       "      <td>0</td>\n",
       "      <td>125</td>\n",
       "      <td>212</td>\n",
       "      <td>0</td>\n",
       "      <td>1</td>\n",
       "      <td>168</td>\n",
       "      <td>0</td>\n",
       "      <td>1.00</td>\n",
       "      <td>2</td>\n",
       "      <td>2</td>\n",
       "      <td>3</td>\n",
       "      <td>0</td>\n",
       "    </tr>\n",
       "    <tr>\n",
       "      <th>1</th>\n",
       "      <td>53</td>\n",
       "      <td>1</td>\n",
       "      <td>0</td>\n",
       "      <td>140</td>\n",
       "      <td>203</td>\n",
       "      <td>1</td>\n",
       "      <td>0</td>\n",
       "      <td>155</td>\n",
       "      <td>1</td>\n",
       "      <td>3.10</td>\n",
       "      <td>0</td>\n",
       "      <td>0</td>\n",
       "      <td>3</td>\n",
       "      <td>0</td>\n",
       "    </tr>\n",
       "    <tr>\n",
       "      <th>2</th>\n",
       "      <td>70</td>\n",
       "      <td>1</td>\n",
       "      <td>0</td>\n",
       "      <td>145</td>\n",
       "      <td>174</td>\n",
       "      <td>0</td>\n",
       "      <td>1</td>\n",
       "      <td>125</td>\n",
       "      <td>1</td>\n",
       "      <td>2.60</td>\n",
       "      <td>0</td>\n",
       "      <td>0</td>\n",
       "      <td>3</td>\n",
       "      <td>0</td>\n",
       "    </tr>\n",
       "    <tr>\n",
       "      <th>3</th>\n",
       "      <td>61</td>\n",
       "      <td>1</td>\n",
       "      <td>0</td>\n",
       "      <td>148</td>\n",
       "      <td>203</td>\n",
       "      <td>0</td>\n",
       "      <td>1</td>\n",
       "      <td>161</td>\n",
       "      <td>0</td>\n",
       "      <td>0.00</td>\n",
       "      <td>2</td>\n",
       "      <td>1</td>\n",
       "      <td>3</td>\n",
       "      <td>0</td>\n",
       "    </tr>\n",
       "    <tr>\n",
       "      <th>4</th>\n",
       "      <td>62</td>\n",
       "      <td>0</td>\n",
       "      <td>0</td>\n",
       "      <td>138</td>\n",
       "      <td>294</td>\n",
       "      <td>1</td>\n",
       "      <td>1</td>\n",
       "      <td>106</td>\n",
       "      <td>0</td>\n",
       "      <td>1.90</td>\n",
       "      <td>1</td>\n",
       "      <td>3</td>\n",
       "      <td>2</td>\n",
       "      <td>0</td>\n",
       "    </tr>\n",
       "    <tr>\n",
       "      <th>5</th>\n",
       "      <td>58</td>\n",
       "      <td>0</td>\n",
       "      <td>0</td>\n",
       "      <td>100</td>\n",
       "      <td>248</td>\n",
       "      <td>0</td>\n",
       "      <td>0</td>\n",
       "      <td>122</td>\n",
       "      <td>0</td>\n",
       "      <td>1.00</td>\n",
       "      <td>1</td>\n",
       "      <td>0</td>\n",
       "      <td>2</td>\n",
       "      <td>1</td>\n",
       "    </tr>\n",
       "    <tr>\n",
       "      <th>6</th>\n",
       "      <td>58</td>\n",
       "      <td>1</td>\n",
       "      <td>0</td>\n",
       "      <td>114</td>\n",
       "      <td>318</td>\n",
       "      <td>0</td>\n",
       "      <td>2</td>\n",
       "      <td>140</td>\n",
       "      <td>0</td>\n",
       "      <td>4.40</td>\n",
       "      <td>0</td>\n",
       "      <td>3</td>\n",
       "      <td>1</td>\n",
       "      <td>0</td>\n",
       "    </tr>\n",
       "    <tr>\n",
       "      <th>7</th>\n",
       "      <td>55</td>\n",
       "      <td>1</td>\n",
       "      <td>0</td>\n",
       "      <td>160</td>\n",
       "      <td>289</td>\n",
       "      <td>0</td>\n",
       "      <td>0</td>\n",
       "      <td>145</td>\n",
       "      <td>1</td>\n",
       "      <td>0.80</td>\n",
       "      <td>1</td>\n",
       "      <td>1</td>\n",
       "      <td>3</td>\n",
       "      <td>0</td>\n",
       "    </tr>\n",
       "    <tr>\n",
       "      <th>8</th>\n",
       "      <td>46</td>\n",
       "      <td>1</td>\n",
       "      <td>0</td>\n",
       "      <td>120</td>\n",
       "      <td>249</td>\n",
       "      <td>0</td>\n",
       "      <td>0</td>\n",
       "      <td>144</td>\n",
       "      <td>0</td>\n",
       "      <td>0.80</td>\n",
       "      <td>2</td>\n",
       "      <td>0</td>\n",
       "      <td>3</td>\n",
       "      <td>0</td>\n",
       "    </tr>\n",
       "    <tr>\n",
       "      <th>9</th>\n",
       "      <td>54</td>\n",
       "      <td>1</td>\n",
       "      <td>0</td>\n",
       "      <td>122</td>\n",
       "      <td>286</td>\n",
       "      <td>0</td>\n",
       "      <td>0</td>\n",
       "      <td>116</td>\n",
       "      <td>1</td>\n",
       "      <td>3.20</td>\n",
       "      <td>1</td>\n",
       "      <td>2</td>\n",
       "      <td>2</td>\n",
       "      <td>0</td>\n",
       "    </tr>\n",
       "    <tr>\n",
       "      <th>10</th>\n",
       "      <td>71</td>\n",
       "      <td>0</td>\n",
       "      <td>0</td>\n",
       "      <td>112</td>\n",
       "      <td>149</td>\n",
       "      <td>0</td>\n",
       "      <td>1</td>\n",
       "      <td>125</td>\n",
       "      <td>0</td>\n",
       "      <td>1.60</td>\n",
       "      <td>1</td>\n",
       "      <td>0</td>\n",
       "      <td>2</td>\n",
       "      <td>1</td>\n",
       "    </tr>\n",
       "    <tr>\n",
       "      <th>11</th>\n",
       "      <td>43</td>\n",
       "      <td>0</td>\n",
       "      <td>0</td>\n",
       "      <td>132</td>\n",
       "      <td>341</td>\n",
       "      <td>1</td>\n",
       "      <td>0</td>\n",
       "      <td>136</td>\n",
       "      <td>1</td>\n",
       "      <td>3.00</td>\n",
       "      <td>1</td>\n",
       "      <td>0</td>\n",
       "      <td>3</td>\n",
       "      <td>0</td>\n",
       "    </tr>\n",
       "    <tr>\n",
       "      <th>12</th>\n",
       "      <td>34</td>\n",
       "      <td>0</td>\n",
       "      <td>1</td>\n",
       "      <td>118</td>\n",
       "      <td>210</td>\n",
       "      <td>0</td>\n",
       "      <td>1</td>\n",
       "      <td>192</td>\n",
       "      <td>0</td>\n",
       "      <td>0.70</td>\n",
       "      <td>2</td>\n",
       "      <td>0</td>\n",
       "      <td>2</td>\n",
       "      <td>1</td>\n",
       "    </tr>\n",
       "    <tr>\n",
       "      <th>13</th>\n",
       "      <td>51</td>\n",
       "      <td>1</td>\n",
       "      <td>0</td>\n",
       "      <td>140</td>\n",
       "      <td>298</td>\n",
       "      <td>0</td>\n",
       "      <td>1</td>\n",
       "      <td>122</td>\n",
       "      <td>1</td>\n",
       "      <td>4.20</td>\n",
       "      <td>1</td>\n",
       "      <td>3</td>\n",
       "      <td>3</td>\n",
       "      <td>0</td>\n",
       "    </tr>\n",
       "    <tr>\n",
       "      <th>14</th>\n",
       "      <td>52</td>\n",
       "      <td>1</td>\n",
       "      <td>0</td>\n",
       "      <td>128</td>\n",
       "      <td>204</td>\n",
       "      <td>1</td>\n",
       "      <td>1</td>\n",
       "      <td>156</td>\n",
       "      <td>1</td>\n",
       "      <td>1.00</td>\n",
       "      <td>1</td>\n",
       "      <td>0</td>\n",
       "      <td>0</td>\n",
       "      <td>0</td>\n",
       "    </tr>\n",
       "    <tr>\n",
       "      <th>16</th>\n",
       "      <td>51</td>\n",
       "      <td>0</td>\n",
       "      <td>2</td>\n",
       "      <td>140</td>\n",
       "      <td>308</td>\n",
       "      <td>0</td>\n",
       "      <td>0</td>\n",
       "      <td>142</td>\n",
       "      <td>0</td>\n",
       "      <td>1.50</td>\n",
       "      <td>2</td>\n",
       "      <td>1</td>\n",
       "      <td>2</td>\n",
       "      <td>1</td>\n",
       "    </tr>\n",
       "    <tr>\n",
       "      <th>17</th>\n",
       "      <td>54</td>\n",
       "      <td>1</td>\n",
       "      <td>0</td>\n",
       "      <td>124</td>\n",
       "      <td>266</td>\n",
       "      <td>0</td>\n",
       "      <td>0</td>\n",
       "      <td>109</td>\n",
       "      <td>1</td>\n",
       "      <td>2.20</td>\n",
       "      <td>1</td>\n",
       "      <td>1</td>\n",
       "      <td>3</td>\n",
       "      <td>0</td>\n",
       "    </tr>\n",
       "    <tr>\n",
       "      <th>18</th>\n",
       "      <td>50</td>\n",
       "      <td>0</td>\n",
       "      <td>1</td>\n",
       "      <td>120</td>\n",
       "      <td>244</td>\n",
       "      <td>0</td>\n",
       "      <td>1</td>\n",
       "      <td>162</td>\n",
       "      <td>0</td>\n",
       "      <td>1.10</td>\n",
       "      <td>2</td>\n",
       "      <td>0</td>\n",
       "      <td>2</td>\n",
       "      <td>1</td>\n",
       "    </tr>\n",
       "    <tr>\n",
       "      <th>19</th>\n",
       "      <td>58</td>\n",
       "      <td>1</td>\n",
       "      <td>2</td>\n",
       "      <td>140</td>\n",
       "      <td>211</td>\n",
       "      <td>1</td>\n",
       "      <td>0</td>\n",
       "      <td>165</td>\n",
       "      <td>0</td>\n",
       "      <td>0.00</td>\n",
       "      <td>2</td>\n",
       "      <td>0</td>\n",
       "      <td>2</td>\n",
       "      <td>1</td>\n",
       "    </tr>\n",
       "    <tr>\n",
       "      <th>20</th>\n",
       "      <td>60</td>\n",
       "      <td>1</td>\n",
       "      <td>2</td>\n",
       "      <td>140</td>\n",
       "      <td>185</td>\n",
       "      <td>0</td>\n",
       "      <td>0</td>\n",
       "      <td>155</td>\n",
       "      <td>0</td>\n",
       "      <td>3.00</td>\n",
       "      <td>1</td>\n",
       "      <td>0</td>\n",
       "      <td>2</td>\n",
       "      <td>0</td>\n",
       "    </tr>\n",
       "    <tr>\n",
       "      <th>21</th>\n",
       "      <td>67</td>\n",
       "      <td>0</td>\n",
       "      <td>0</td>\n",
       "      <td>106</td>\n",
       "      <td>223</td>\n",
       "      <td>0</td>\n",
       "      <td>1</td>\n",
       "      <td>142</td>\n",
       "      <td>0</td>\n",
       "      <td>0.30</td>\n",
       "      <td>2</td>\n",
       "      <td>2</td>\n",
       "      <td>2</td>\n",
       "      <td>1</td>\n",
       "    </tr>\n",
       "    <tr>\n",
       "      <th>22</th>\n",
       "      <td>45</td>\n",
       "      <td>1</td>\n",
       "      <td>0</td>\n",
       "      <td>104</td>\n",
       "      <td>208</td>\n",
       "      <td>0</td>\n",
       "      <td>0</td>\n",
       "      <td>148</td>\n",
       "      <td>1</td>\n",
       "      <td>3.00</td>\n",
       "      <td>1</td>\n",
       "      <td>0</td>\n",
       "      <td>2</td>\n",
       "      <td>1</td>\n",
       "    </tr>\n",
       "    <tr>\n",
       "      <th>23</th>\n",
       "      <td>63</td>\n",
       "      <td>0</td>\n",
       "      <td>2</td>\n",
       "      <td>135</td>\n",
       "      <td>252</td>\n",
       "      <td>0</td>\n",
       "      <td>0</td>\n",
       "      <td>172</td>\n",
       "      <td>0</td>\n",
       "      <td>0.00</td>\n",
       "      <td>2</td>\n",
       "      <td>0</td>\n",
       "      <td>2</td>\n",
       "      <td>1</td>\n",
       "    </tr>\n",
       "    <tr>\n",
       "      <th>24</th>\n",
       "      <td>42</td>\n",
       "      <td>0</td>\n",
       "      <td>2</td>\n",
       "      <td>120</td>\n",
       "      <td>209</td>\n",
       "      <td>0</td>\n",
       "      <td>1</td>\n",
       "      <td>173</td>\n",
       "      <td>0</td>\n",
       "      <td>0.00</td>\n",
       "      <td>1</td>\n",
       "      <td>0</td>\n",
       "      <td>2</td>\n",
       "      <td>1</td>\n",
       "    </tr>\n",
       "    <tr>\n",
       "      <th>25</th>\n",
       "      <td>61</td>\n",
       "      <td>0</td>\n",
       "      <td>0</td>\n",
       "      <td>145</td>\n",
       "      <td>307</td>\n",
       "      <td>0</td>\n",
       "      <td>0</td>\n",
       "      <td>146</td>\n",
       "      <td>1</td>\n",
       "      <td>1.00</td>\n",
       "      <td>1</td>\n",
       "      <td>0</td>\n",
       "      <td>3</td>\n",
       "      <td>0</td>\n",
       "    </tr>\n",
       "  </tbody>\n",
       "</table>\n",
       "</div>"
      ],
      "text/plain": [
       "    age  sex  cp  trestbps  chol  fbs  restecg  thalach  exang  oldpeak  \\\n",
       "0    52    1   0       125   212    0        1      168      0     1.00   \n",
       "1    53    1   0       140   203    1        0      155      1     3.10   \n",
       "2    70    1   0       145   174    0        1      125      1     2.60   \n",
       "3    61    1   0       148   203    0        1      161      0     0.00   \n",
       "4    62    0   0       138   294    1        1      106      0     1.90   \n",
       "5    58    0   0       100   248    0        0      122      0     1.00   \n",
       "6    58    1   0       114   318    0        2      140      0     4.40   \n",
       "7    55    1   0       160   289    0        0      145      1     0.80   \n",
       "8    46    1   0       120   249    0        0      144      0     0.80   \n",
       "9    54    1   0       122   286    0        0      116      1     3.20   \n",
       "10   71    0   0       112   149    0        1      125      0     1.60   \n",
       "11   43    0   0       132   341    1        0      136      1     3.00   \n",
       "12   34    0   1       118   210    0        1      192      0     0.70   \n",
       "13   51    1   0       140   298    0        1      122      1     4.20   \n",
       "14   52    1   0       128   204    1        1      156      1     1.00   \n",
       "16   51    0   2       140   308    0        0      142      0     1.50   \n",
       "17   54    1   0       124   266    0        0      109      1     2.20   \n",
       "18   50    0   1       120   244    0        1      162      0     1.10   \n",
       "19   58    1   2       140   211    1        0      165      0     0.00   \n",
       "20   60    1   2       140   185    0        0      155      0     3.00   \n",
       "21   67    0   0       106   223    0        1      142      0     0.30   \n",
       "22   45    1   0       104   208    0        0      148      1     3.00   \n",
       "23   63    0   2       135   252    0        0      172      0     0.00   \n",
       "24   42    0   2       120   209    0        1      173      0     0.00   \n",
       "25   61    0   0       145   307    0        0      146      1     1.00   \n",
       "\n",
       "    slope  ca  thal  target  \n",
       "0       2   2     3       0  \n",
       "1       0   0     3       0  \n",
       "2       0   0     3       0  \n",
       "3       2   1     3       0  \n",
       "4       1   3     2       0  \n",
       "5       1   0     2       1  \n",
       "6       0   3     1       0  \n",
       "7       1   1     3       0  \n",
       "8       2   0     3       0  \n",
       "9       1   2     2       0  \n",
       "10      1   0     2       1  \n",
       "11      1   0     3       0  \n",
       "12      2   0     2       1  \n",
       "13      1   3     3       0  \n",
       "14      1   0     0       0  \n",
       "16      2   1     2       1  \n",
       "17      1   1     3       0  \n",
       "18      2   0     2       1  \n",
       "19      2   0     2       1  \n",
       "20      1   0     2       0  \n",
       "21      2   2     2       1  \n",
       "22      1   0     2       1  \n",
       "23      2   0     2       1  \n",
       "24      1   0     2       1  \n",
       "25      1   0     3       0  "
      ]
     },
     "execution_count": 117,
     "metadata": {},
     "output_type": "execute_result"
    }
   ],
   "source": [
    "data2.head(25)"
   ]
  },
  {
   "cell_type": "code",
   "execution_count": 122,
   "id": "663c7619",
   "metadata": {},
   "outputs": [
    {
     "name": "stdout",
     "output_type": "stream",
     "text": [
      "[SEGURO] DOENÇA CARDÍACA NÃO DETECTADA\n"
     ]
    }
   ],
   "source": [
    "#sample1 = [63,1,3,145,233,1,0,150,0,2.30,0,0,1]  # n\n",
    "#sample1 = [61,0,0,145,307,0,0,146,1,1.0,1,3,0]\n",
    "#sample1 = [37,1,2,130,204,0,0,172,0,1.40,2,0,2]\n",
    "#sample1 = [42,1,0,140,226,0,1,178,0,0.00,2,0,2]  #t\n",
    "#sample1 = [56,1,1,120,236,0,1,178,0,0.80,2,0,2]  #t\n",
    "#sample1 = [61,0,0,145,307,0,0,146,1,1.0,1,3,0]\n",
    "#sample2 = [61,0,0,145,307,0,0,146,1,1.0,1,3,0]\n",
    "\n",
    "\n",
    "if rfc1.predict([sample1]) == 0:\n",
    "    print('[SEGURO] DOENÇA CARDÍACA NÃO DETECTADA')\n",
    "else:\n",
    "    print(' [AVISO] DOENÇA CARDÍACA DETECTADA')"
   ]
  },
  {
   "cell_type": "code",
   "execution_count": null,
   "id": "8f90f2a9",
   "metadata": {},
   "outputs": [],
   "source": []
  }
 ],
 "metadata": {
  "kernelspec": {
   "display_name": "Python 3 (ipykernel)",
   "language": "python",
   "name": "python3"
  },
  "language_info": {
   "codemirror_mode": {
    "name": "ipython",
    "version": 3
   },
   "file_extension": ".py",
   "mimetype": "text/x-python",
   "name": "python",
   "nbconvert_exporter": "python",
   "pygments_lexer": "ipython3",
   "version": "3.9.12"
  }
 },
 "nbformat": 4,
 "nbformat_minor": 5
}
